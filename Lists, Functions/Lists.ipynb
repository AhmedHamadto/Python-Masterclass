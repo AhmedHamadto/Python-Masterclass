{
 "cells": [
  {
   "cell_type": "markdown",
   "metadata": {},
   "source": [
    "#\n",
    "# Lists.ipynb - This is a program to demonstrate the use of lists in Python\n",
    "#\n",
    "# Author: Ahmed Abdelmuniem Abdalla Mohammed\n",
    "#\n",
    "# Date Modified: 2024-07-26"
   ]
  },
  {
   "cell_type": "code",
   "execution_count": null,
   "metadata": {},
   "outputs": [],
   "source": [
    "# Creating a list\n",
    "fruits = ['apple', 'banana', 'orange', 'mango', 'kiwi']"
   ]
  },
  {
   "cell_type": "code",
   "execution_count": null,
   "metadata": {},
   "outputs": [],
   "source": [
    "# Accessing elements in the list\n",
    "print(fruits[0])  # Output: 'apple'\n",
    "print(fruits[-1])  # Output: 'kiwi'"
   ]
  },
  {
   "cell_type": "code",
   "execution_count": null,
   "metadata": {},
   "outputs": [],
   "source": [
    "# Slicing the list\n",
    "print(fruits[1:5])  # Output: ['banana', 'orange', 'mango']"
   ]
  },
  {
   "cell_type": "code",
   "execution_count": null,
   "metadata": {},
   "outputs": [],
   "source": [
    "# Modifying the list\n",
    "fruits[2] = 'grape'\n",
    "print(fruits)  # Output: ['apple', 'banana', 'grape', 'mango', 'kiwi']"
   ]
  },
  {
   "cell_type": "code",
   "execution_count": null,
   "metadata": {},
   "outputs": [],
   "source": [
    "# Length of the list\n",
    "print(len(fruits))  # Output: 5"
   ]
  },
  {
   "cell_type": "code",
   "execution_count": null,
   "metadata": {},
   "outputs": [],
   "source": [
    "# Adding elements to the list\n",
    "fruits.append('pear')\n",
    "print(fruits)  # Output: ['apple', 'banana', 'grape', 'mango', 'kiwi', 'pear']"
   ]
  },
  {
   "cell_type": "code",
   "execution_count": null,
   "metadata": {},
   "outputs": [],
   "source": [
    "# Inserting elements at a specific position\n",
    "fruits.insert(1, 'cherry')\n",
    "print(fruits)  # Output: ['apple', 'cherry', 'banana', 'grape', 'mango', 'kiwi', 'pear']"
   ]
  },
  {
   "cell_type": "code",
   "execution_count": null,
   "metadata": {},
   "outputs": [],
   "source": [
    "\n",
    "# Removing elements from the list\n",
    "fruits.remove('mango')\n",
    "print(fruits)  # Output: ['apple', 'cherry', 'banana', 'grape', 'kiwi', 'pear']"
   ]
  },
  {
   "cell_type": "code",
   "execution_count": null,
   "metadata": {},
   "outputs": [],
   "source": [
    "# Popping an element (default last element)\n",
    "popped_fruit = fruits.pop()\n",
    "print(popped_fruit)  # Output: 'pear'\n",
    "print(fruits)  # Output: ['apple', 'cherry', 'banana', 'grape', 'kiwi']"
   ]
  },
  {
   "cell_type": "code",
   "execution_count": null,
   "metadata": {},
   "outputs": [],
   "source": [
    "# List concatenation\n",
    "more_fruits = ['watermelon', 'pineapple']\n",
    "all_fruits = fruits + more_fruits\n",
    "print(all_fruits)  # Output: ['apple', 'cherry', 'banana', 'grape', 'kiwi', 'watermelon', 'pineapple']"
   ]
  },
  {
   "cell_type": "code",
   "execution_count": null,
   "metadata": {},
   "outputs": [],
   "source": [
    "# List repetition\n",
    "repeated_fruits = fruits * 2\n",
    "print(repeated_fruits)  # Output: ['apple', 'cherry', 'banana', 'grape', 'kiwi', 'apple', 'cherry', 'banana', 'grape', 'kiwi']"
   ]
  },
  {
   "cell_type": "code",
   "execution_count": null,
   "metadata": {},
   "outputs": [],
   "source": [
    "# List unpacking\n",
    "first_fruit, *rest_of_fruits = fruits\n",
    "print(first_fruit)  # Output: 'apple'\n",
    "print(rest_of_fruits)  # Output: ['cherry', 'banana', 'grape', 'kiwi']"
   ]
  },
  {
   "cell_type": "code",
   "execution_count": null,
   "metadata": {},
   "outputs": [],
   "source": [
    "# List sorting\n",
    "fruits.sort()\n",
    "print(fruits)  # Output: ['apple', 'banana', 'cherry', 'grape', 'kiwi']"
   ]
  },
  {
   "cell_type": "code",
   "execution_count": null,
   "metadata": {},
   "outputs": [],
   "source": [
    "# List reversal\n",
    "fruits.reverse()\n",
    "print(fruits)  # Output: ['kiwi', 'grape', 'cherry', 'banana', 'apple']"
   ]
  },
  {
   "cell_type": "code",
   "execution_count": null,
   "metadata": {},
   "outputs": [],
   "source": [
    "# List count\n",
    "count_bananas = fruits.count('banana')\n",
    "print(count_bananas)  # Output: 1"
   ]
  },
  {
   "cell_type": "code",
   "execution_count": null,
   "metadata": {},
   "outputs": [],
   "source": [
    "# List index\n",
    "index_cherry = fruits.index('cherry')\n",
    "print(index_cherry)  # Output: 2"
   ]
  },
  {
   "cell_type": "code",
   "execution_count": null,
   "metadata": {},
   "outputs": [],
   "source": [
    "# Using the enumerate() function\n",
    "for index, fruit in enumerate(fruits):\n",
    "    print(f\"Index {index}: {fruit}\")"
   ]
  },
  {
   "cell_type": "code",
   "execution_count": null,
   "metadata": {},
   "outputs": [],
   "source": [
    "# List comprehension for filtering and transforming\n",
    "squared_numbers = [num ** 2 for num in range(1, 6) if num % 2 == 0]\n",
    "print(squared_numbers)  # Output: [4, 16]"
   ]
  },
  {
   "cell_type": "code",
   "execution_count": null,
   "metadata": {},
   "outputs": [],
   "source": [
    "# Nested lists\n",
    "nested_list = [[1, 2, 3], [4, 5, 6], [7, 8, 9]]\n",
    "print(nested_list[1][2])  # Output: 6"
   ]
  },
  {
   "cell_type": "markdown",
   "metadata": {},
   "source": [
    "Exercises\n",
    "\n",
    "Basic List Comprehensions:\n",
    "1. Create a list of squares for numbers 1 to 5.\n",
    "\n",
    "2. Create a list of even numbers from 0 to 10.\n",
    "\n",
    "3. Convert a list of names to uppercase.\n",
    "\n",
    "Intermediate List Comprehensions:\n",
    "1. Create a list of tuples with number and its square.\n",
    "\n",
    "2. Flatten a 2D list.\n",
    "\n",
    "3.Filter out vowels from a string\n",
    "\n",
    "Advanced List Comprehensions:\n",
    "1. Create a list of all possible pairs from two lists.\n",
    "\n",
    "2. Generate a list of prime numbers using a list comprehension and a helper function.\n",
    "\n",
    "3. Generate a list of wrods from a sentence, excluding common words (stop words).\n"
   ]
  }
 ],
 "metadata": {
  "kernelspec": {
   "display_name": "Python 3",
   "language": "python",
   "name": "python3"
  },
  "language_info": {
   "codemirror_mode": {
    "name": "ipython",
    "version": 3
   },
   "file_extension": ".py",
   "mimetype": "text/x-python",
   "name": "python",
   "nbconvert_exporter": "python",
   "pygments_lexer": "ipython3",
   "version": "3.11.2"
  },
  "orig_nbformat": 4
 },
 "nbformat": 4,
 "nbformat_minor": 2
}
