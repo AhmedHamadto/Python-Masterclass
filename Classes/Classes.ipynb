{
 "cells": [
  {
   "cell_type": "markdown",
   "metadata": {},
   "source": [
    "#\n",
    "# Classes.ipynb - This is a notebook to explain how classes work in Python\n",
    "#\n",
    "# Author: Ahmed Abdelmuniem Abdalla Mohammed\n",
    "#\n",
    "# Last Modified: 2024-07-26\n",
    "# "
   ]
  },
  {
   "cell_type": "markdown",
   "metadata": {},
   "source": [
    "Session 1: Introduction to classes\n",
    "==================================\n",
    "In this code, we define a simple class Dog with a method bark. We then create an instance of the class and call the bark method on the object."
   ]
  },
  {
   "cell_type": "code",
   "execution_count": 1,
   "metadata": {},
   "outputs": [
    {
     "name": "stdout",
     "output_type": "stream",
     "text": [
      "Woof!\n"
     ]
    }
   ],
   "source": [
    "# Defining a simple class\n",
    "class Dog:\n",
    "    def bark(self):\n",
    "        print(\"Woof!\")\n",
    "\n",
    "# Creating an instance of the class\n",
    "my_dog = Dog()\n",
    "\n",
    "# Calling the method on the object\n",
    "my_dog.bark()\n"
   ]
  },
  {
   "cell_type": "markdown",
   "metadata": {},
   "source": [
    "Session 2: Creating and using objects\n",
    "====================================\n",
    "This code demonstrates creating a class Student with a constructor (__init__) and a method display_info. We create an instance of the class with a name and age, then call the method to display student information."
   ]
  },
  {
   "cell_type": "code",
   "execution_count": 2,
   "metadata": {},
   "outputs": [
    {
     "name": "stdout",
     "output_type": "stream",
     "text": [
      "Name: Alice, Age: 20\n"
     ]
    }
   ],
   "source": [
    "class Student:\n",
    "    def __init__(self, name, age):\n",
    "        self.name = name\n",
    "        self.age = age\n",
    "\n",
    "    def display_info(self):\n",
    "        print(f\"Name: {self.name}, Age: {self.age}\")\n",
    "\n",
    "student1 = Student(\"Alice\", 20)\n",
    "student1.display_info()\n"
   ]
  },
  {
   "cell_type": "markdown",
   "metadata": {},
   "source": [
    "Session 3: Constructors and Destructors\n",
    "========================================\n",
    "Here, we create a class Car with a constructor and a destructor (__del__). When an instance of the class is deleted, the destructor is called."
   ]
  },
  {
   "cell_type": "code",
   "execution_count": 5,
   "metadata": {},
   "outputs": [
    {
     "name": "stdout",
     "output_type": "stream",
     "text": [
      "<__main__.Car object at 0x107cd46d0>\n",
      "The Toyota Corolla is being destroyed.\n"
     ]
    }
   ],
   "source": [
    "class Car:\n",
    "    def __init__(self, make, model):\n",
    "        self.make = make\n",
    "        self.model = model\n",
    "\n",
    "    def __del__(self):\n",
    "        print(f\"The {self.make} {self.model} is being destroyed.\")\n",
    "\n",
    "car1 = Car(\"Toyota\", \"Corolla\")\n",
    "print(car1)\n",
    "del car1\n"
   ]
  },
  {
   "cell_type": "markdown",
   "metadata": {},
   "source": [
    "Session 4: Class variables and methods\n",
    "=======================================\n",
    "In this code, we define a class Circle with a class variable pi and a method area. We create an instance of the class and calculate the area using the class variable."
   ]
  },
  {
   "cell_type": "code",
   "execution_count": null,
   "metadata": {},
   "outputs": [],
   "source": [
    "class Circle:\n",
    "    pi = 3.14159  # Class variable\n",
    "\n",
    "    def __init__(self, radius):\n",
    "        self.radius = radius\n",
    "\n",
    "    def area(self):\n",
    "        return Circle.pi * self.radius ** 2\n",
    "\n",
    "circle1 = Circle(5)\n",
    "print(\"Area:\", circle1.area())\n"
   ]
  },
  {
   "cell_type": "markdown",
   "metadata": {},
   "source": [
    "Session 5: Inheritance and Polymorphism\n",
    "=======================================\n",
    "This code demonstrates inheritance and polymorphism. We create base class Animal with a method speak, then derived classes Dog and Cat that override the speak method. We use a function to make animals speak, demonstrating polymorphism."
   ]
  },
  {
   "cell_type": "code",
   "execution_count": 6,
   "metadata": {},
   "outputs": [
    {
     "name": "stdout",
     "output_type": "stream",
     "text": [
      "Woof!\n",
      "Meow!\n"
     ]
    }
   ],
   "source": [
    "class Animal:\n",
    "    def speak(self):\n",
    "        pass\n",
    "\n",
    "class Dog(Animal):\n",
    "    def speak(self):\n",
    "        print(\"Woof!\")\n",
    "\n",
    "class Cat(Animal):\n",
    "    def speak(self):\n",
    "        print(\"Meow!\")\n",
    "\n",
    "def make_animal_speak(animal):\n",
    "    animal.speak()\n",
    "\n",
    "dog = Dog()\n",
    "cat = Cat()\n",
    "\n",
    "make_animal_speak(dog)\n",
    "make_animal_speak(cat)\n"
   ]
  },
  {
   "cell_type": "code",
   "execution_count": 7,
   "metadata": {},
   "outputs": [
    {
     "name": "stdout",
     "output_type": "stream",
     "text": [
      "Brand: Toyota\n",
      "Model: Corolla\n",
      "Brand: Honda\n",
      "Type: Mountain\n"
     ]
    }
   ],
   "source": [
    "# Second inheritance example\n",
    "\n",
    "# In this example, we have a base class Vehicle with derived classes Car and Bike. \n",
    "# The derived classes inherit attributes and methods from the base class. \n",
    "# The display_info method is overridden in both derived classes to provide specialized information.\n",
    "\n",
    "class Vehicle:\n",
    "    def __init__(self, brand):\n",
    "        self.brand = brand\n",
    "\n",
    "    def display_info(self):\n",
    "        print(f\"Brand: {self.brand}\")\n",
    "\n",
    "class Car(Vehicle):\n",
    "    def __init__(self, brand, model):\n",
    "        super().__init__(brand)\n",
    "        self.model = model\n",
    "\n",
    "    def display_info(self):\n",
    "        super().display_info()\n",
    "        print(f\"Model: {self.model}\")\n",
    "\n",
    "class Bike(Vehicle):\n",
    "    def __init__(self, brand, type):\n",
    "        super().__init__(brand)\n",
    "        self.type = type\n",
    "\n",
    "    def display_info(self):\n",
    "        super().display_info()\n",
    "        print(f\"Type: {self.type}\")\n",
    "\n",
    "car = Car(\"Toyota\", \"Corolla\")\n",
    "bike = Bike(\"Honda\", \"Mountain\")\n",
    "\n",
    "car.display_info()\n",
    "bike.display_info()\n"
   ]
  },
  {
   "cell_type": "code",
   "execution_count": 8,
   "metadata": {},
   "outputs": [
    {
     "name": "stdout",
     "output_type": "stream",
     "text": [
      "Area: 78.53975\n",
      "Area: 16\n"
     ]
    }
   ],
   "source": [
    "# Second Polymorphism Example\n",
    "# In this example, we have a base class Shape with derived classes Circle and Square.\n",
    "# Both derived classes have an area method that calculates the area of the shape.\n",
    "# We create a list of different shapes and iterate through it, demonstrating polymorphism by calling the area method on each shape.\n",
    "\n",
    "class Shape:\n",
    "    def area(self):\n",
    "        pass\n",
    "\n",
    "class Circle(Shape):\n",
    "    def __init__(self, radius):\n",
    "        self.radius = radius\n",
    "\n",
    "    def area(self):\n",
    "        return 3.14159 * self.radius ** 2\n",
    "\n",
    "class Square(Shape):\n",
    "    def __init__(self, side_length):\n",
    "        self.side_length = side_length\n",
    "\n",
    "    def area(self):\n",
    "        return self.side_length ** 2\n",
    "\n",
    "shapes = [Circle(5), Square(4)]\n",
    "\n",
    "for shape in shapes:\n",
    "    print(\"Area:\", shape.area())\n"
   ]
  },
  {
   "cell_type": "code",
   "execution_count": 9,
   "metadata": {},
   "outputs": [
    {
     "name": "stdout",
     "output_type": "stream",
     "text": [
      "Woof!\n",
      "Purr!\n"
     ]
    }
   ],
   "source": [
    "# Method overriding and 'super()' example.\n",
    "\n",
    "# In this example, we have classes Animal, Dog, and Cat with overridden speak methods.\n",
    "# We create a class Hybrid that inherits from both Dog and Cat, and its speak method \n",
    "# uses super() to call the overridden methods from the base classes.\n",
    "# This demonstrates method overriding and multiple inheritance.\n",
    "\n",
    "class Animal:\n",
    "    def speak(self):\n",
    "        pass\n",
    "\n",
    "class Dog(Animal):\n",
    "    def speak(self):\n",
    "        print(\"Woof!\")\n",
    "\n",
    "class Cat(Animal):\n",
    "    def speak(self):\n",
    "        print(\"Meow!\")\n",
    "\n",
    "class Hybrid(Dog, Cat):\n",
    "    def speak(self):\n",
    "        super().speak()\n",
    "        print(\"Purr!\")\n",
    "\n",
    "hybrid = Hybrid()\n",
    "hybrid.speak()\n"
   ]
  },
  {
   "cell_type": "code",
   "execution_count": 10,
   "metadata": {},
   "outputs": [
    {
     "name": "stdout",
     "output_type": "stream",
     "text": [
      "Brand: Toyota\n",
      "Model: Corolla\n",
      "Brand: Honda\n",
      "Type: Mountain\n"
     ]
    }
   ],
   "source": [
    "# Inheritance example\n",
    "\n",
    "class Vehicle:\n",
    "    def __init__(self, brand):\n",
    "        self.brand = brand\n",
    "\n",
    "    def display_info(self):\n",
    "        print(f\"Brand: {self.brand}\")\n",
    "\n",
    "class Car(Vehicle):\n",
    "    def __init__(self, brand, model):\n",
    "        super().__init__(brand)\n",
    "        self.model = model\n",
    "\n",
    "    def display_info(self):\n",
    "        super().display_info()\n",
    "        print(f\"Model: {self.model}\")\n",
    "\n",
    "class Bike(Vehicle):\n",
    "    def __init__(self, brand, type):\n",
    "        super().__init__(brand)\n",
    "        self.type = type\n",
    "\n",
    "    def display_info(self):\n",
    "        super().display_info()\n",
    "        print(f\"Type: {self.type}\")\n",
    "\n",
    "car = Car(\"Toyota\", \"Corolla\")\n",
    "bike = Bike(\"Honda\", \"Mountain\")\n",
    "\n",
    "car.display_info()\n",
    "bike.display_info()\n"
   ]
  },
  {
   "cell_type": "code",
   "execution_count": 11,
   "metadata": {},
   "outputs": [
    {
     "name": "stdout",
     "output_type": "stream",
     "text": [
      "Area: 78.53975\n",
      "Area: 16\n"
     ]
    }
   ],
   "source": [
    "# Polymorphism Example\n",
    "\n",
    "class Shape:\n",
    "    def area(self):\n",
    "        pass\n",
    "\n",
    "class Circle(Shape):\n",
    "    def __init__(self, radius):\n",
    "        self.radius = radius\n",
    "\n",
    "    def area(self):\n",
    "        return 3.14159 * self.radius ** 2\n",
    "\n",
    "class Square(Shape):\n",
    "    def __init__(self, side_length):\n",
    "        self.side_length = side_length\n",
    "\n",
    "    def area(self):\n",
    "        return self.side_length ** 2\n",
    "\n",
    "shapes = [Circle(5), Square(4)]\n",
    "\n",
    "for shape in shapes:\n",
    "    print(\"Area:\", shape.area())\n"
   ]
  },
  {
   "cell_type": "code",
   "execution_count": null,
   "metadata": {},
   "outputs": [],
   "source": [
    "# Private Class variable (__pi)\n",
    "class Circle:\n",
    "    __pi = 3.14159  # Private class variable\n",
    "\n",
    "    def __init__(self, radius):\n",
    "        self.radius = radius\n",
    "\n",
    "    def area(self):\n",
    "        return Circle.__pi * self.radius ** 2\n",
    "\n",
    "circle = Circle(5)\n",
    "print(\"Pi:\", circle.pi)  # This would result in an AttributeError\n",
    "print(\"Area:\", circle.area())\n",
    "\n",
    "#In this example, __pi is a private class variable of the Circle class.\n",
    "# If you try to access it directly from outside the class (commented line), you'll encounter an AttributeError.\n",
    "# However, the class can still use this private variable within its methods, as demonstrated in the area method.\n"
   ]
  },
  {
   "cell_type": "code",
   "execution_count": 16,
   "metadata": {},
   "outputs": [
    {
     "name": "stdout",
     "output_type": "stream",
     "text": [
      "3.14159\n"
     ]
    }
   ],
   "source": [
    "# It's important to note that Python name mangling can still be used to access private class variables from outside the class. \n",
    "# For instance, circle._Circle__pi would access the private variable __pi in this case. \n",
    "# The use of the double underscore is more about convention and conveying the intended level of access rather than strict enforcement.\n",
    "\n",
    "print(circle._Circle__pi)"
   ]
  },
  {
   "cell_type": "code",
   "execution_count": null,
   "metadata": {},
   "outputs": [],
   "source": [
    "# private Class variable (pi)\n"
   ]
  },
  {
   "cell_type": "code",
   "execution_count": 20,
   "metadata": {},
   "outputs": [
    {
     "ename": "TypeError",
     "evalue": "Calculator.add() missing 1 required positional argument: 'c'",
     "output_type": "error",
     "traceback": [
      "\u001b[0;31m---------------------------------------------------------------------------\u001b[0m",
      "\u001b[0;31mTypeError\u001b[0m                                 Traceback (most recent call last)",
      "Cell \u001b[0;32mIn[20], line 10\u001b[0m\n\u001b[1;32m      7\u001b[0m         \u001b[39mreturn\u001b[39;00m a \u001b[39m+\u001b[39m b \u001b[39m+\u001b[39m c\n\u001b[1;32m      9\u001b[0m calc \u001b[39m=\u001b[39m Calculator()\n\u001b[0;32m---> 10\u001b[0m result1 \u001b[39m=\u001b[39m calc\u001b[39m.\u001b[39;49madd(\u001b[39m2\u001b[39;49m, \u001b[39m3\u001b[39;49m)       \u001b[39m# Calls the first add method\u001b[39;00m\n\u001b[1;32m     11\u001b[0m result2 \u001b[39m=\u001b[39m calc\u001b[39m.\u001b[39madd(\u001b[39m2\u001b[39m, \u001b[39m3\u001b[39m, \u001b[39m4\u001b[39m)    \u001b[39m# Calls the second add method\u001b[39;00m\n",
      "\u001b[0;31mTypeError\u001b[0m: Calculator.add() missing 1 required positional argument: 'c'"
     ]
    }
   ],
   "source": [
    "# Compile-Time Polymporphism (Method overloading)\n",
    "class Calculator:\n",
    "    def add(self, a, b):\n",
    "        return a + b\n",
    "\n",
    "    def add(self, a, b, c):\n",
    "        return a + b + c\n",
    "\n",
    "calc = Calculator()\n",
    "result1 = calc.add(2, 3)       # Calls the first add method\n",
    "result2 = calc.add(2, 3, 4)    # Calls the second add method\n"
   ]
  },
  {
   "cell_type": "code",
   "execution_count": 21,
   "metadata": {},
   "outputs": [
    {
     "name": "stdout",
     "output_type": "stream",
     "text": [
      "Woof!\n",
      "Meow!\n"
     ]
    }
   ],
   "source": [
    "# Runtime Polymorphism (Method Overriding)\n",
    "class Animal:\n",
    "    def speak(self):\n",
    "        pass\n",
    "\n",
    "class Dog(Animal):\n",
    "    def speak(self):\n",
    "        return \"Woof!\"\n",
    "\n",
    "class Cat(Animal):\n",
    "    def speak(self):\n",
    "        return \"Meow!\"\n",
    "\n",
    "def make_animal_speak(animal):\n",
    "    return animal.speak()\n",
    "\n",
    "dog = Dog()\n",
    "cat = Cat()\n",
    "\n",
    "print(make_animal_speak(dog))  # Output: Woof!\n",
    "print(make_animal_speak(cat))  # Output: Meow!\n"
   ]
  },
  {
   "cell_type": "markdown",
   "metadata": {},
   "source": [
    "Session 6: Encapsulation and Access Modifiers\n",
    "=============================================\n",
    "Here, we define a class BankAccount with a private attribute __balance. We use methods to interact with the private attribute while encapsulating its access."
   ]
  },
  {
   "cell_type": "code",
   "execution_count": 22,
   "metadata": {},
   "outputs": [
    {
     "name": "stdout",
     "output_type": "stream",
     "text": [
      "Balance: 1500\n"
     ]
    }
   ],
   "source": [
    "class BankAccount:\n",
    "    def __init__(self, balance):\n",
    "        self.__balance = balance\n",
    "\n",
    "    def deposit(self, amount):\n",
    "        self.__balance += amount\n",
    "\n",
    "    def get_balance(self):\n",
    "        return self.__balance\n",
    "\n",
    "account = BankAccount(1000)\n",
    "account.deposit(500)\n",
    "print(\"Balance:\", account.get_balance())\n"
   ]
  },
  {
   "cell_type": "markdown",
   "metadata": {},
   "source": [
    "Session 7: Mini-Project\n",
    "=======================\n",
    "This code presents a mini project - a simple bank account system. We define a class BankAccount with methods for deposit, withdrawal, and displaying the balance. We create an instance and perform operations on it."
   ]
  },
  {
   "cell_type": "code",
   "execution_count": 24,
   "metadata": {},
   "outputs": [
    {
     "name": "stdout",
     "output_type": "stream",
     "text": [
      "Account Number: 12345, Balance: 1200\n"
     ]
    }
   ],
   "source": [
    "class BankAccount:\n",
    "    def __init__(self, account_number, balance):\n",
    "        self.account_number = account_number\n",
    "        self.balance = balance\n",
    "\n",
    "    def deposit(self, amount):\n",
    "        self.balance += amount\n",
    "\n",
    "    def withdraw(self, amount):\n",
    "        if amount <= self.balance:\n",
    "            self.balance -= amount\n",
    "        else:\n",
    "            print(\"Insufficient balance\")\n",
    "\n",
    "    def display_balance(self):\n",
    "        print(f\"Account Number: {self.account_number}, Balance: {self.balance}\")\n",
    "\n",
    "# Usage\n",
    "account1 = BankAccount(\"12345\", 1000)\n",
    "account1.deposit(500)\n",
    "account1.withdraw(300)\n",
    "account1.display_balance()\n"
   ]
  },
  {
   "cell_type": "code",
   "execution_count": null,
   "metadata": {},
   "outputs": [],
   "source": [
    "class Animal:\n",
    "    def speak(self):\n",
    "        pass\n",
    "\n",
    "class Dog(Animal):\n",
    "    def speak(self):\n",
    "        return \"Woof!\"\n",
    "\n",
    "class Cat(Animal):\n",
    "    def speak(self):\n",
    "        return \"Meow!\"\n",
    "\n",
    "class Hybrid(Dog, Cat):\n",
    "    def speak(self):\n",
    "        return super().speak() + \" and Purr!\"\n",
    "\n",
    "def make_animal_speak(animal):\n",
    "    return animal.speak()\n",
    "\n",
    "dog = Dog()\n",
    "cat = Cat()\n",
    "hybrid = Hybrid()\n",
    "\n",
    "print(make_animal_speak(dog))     # Output: Woof!\n",
    "print(make_animal_speak(cat))     # Output: Meow!\n",
    "print(make_animal_speak(hybrid))  # Output: Woof! and Purr!\n"
   ]
  }
 ],
 "metadata": {
  "kernelspec": {
   "display_name": "Python 3",
   "language": "python",
   "name": "python3"
  },
  "language_info": {
   "codemirror_mode": {
    "name": "ipython",
    "version": 3
   },
   "file_extension": ".py",
   "mimetype": "text/x-python",
   "name": "python",
   "nbconvert_exporter": "python",
   "pygments_lexer": "ipython3",
   "version": "3.11.2"
  },
  "orig_nbformat": 4
 },
 "nbformat": 4,
 "nbformat_minor": 2
}
