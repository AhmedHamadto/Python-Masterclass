{
 "cells": [
  {
   "cell_type": "markdown",
   "metadata": {},
   "source": [
    "Exercise 1"
   ]
  },
  {
   "cell_type": "code",
   "execution_count": null,
   "metadata": {},
   "outputs": [],
   "source": [
    "import matplotlib.pyplot as plt\n",
    "\n",
    "# Data\n",
    "x = [0, 1, 2, 3, 4, 5]\n",
    "y = [0, 2, 4, 6, 8, 10]\n",
    "\n",
    "# Plot\n",
    "plt.plot(x, y)\n",
    "plt.title(\"Simple Line Plot\")\n",
    "plt.xlabel(\"x-axis\")\n",
    "plt.ylabel(\"y-axis\")\n",
    "plt.show()\n"
   ]
  },
  {
   "cell_type": "markdown",
   "metadata": {},
   "source": [
    "Exercise 2"
   ]
  },
  {
   "cell_type": "code",
   "execution_count": null,
   "metadata": {},
   "outputs": [],
   "source": [
    "# Data\n",
    "x = [0, 1, 2, 3, 4, 5]\n",
    "y = [0, 2, 4, 6, 8, 10]\n",
    "\n",
    "# Customised Plot\n",
    "plt.plot(x, y, color='red', marker='o', linestyle='--')\n",
    "plt.title(\"Customised Line Plot\")\n",
    "plt.xlabel(\"x-axis\")\n",
    "plt.ylabel(\"y-axis\")\n",
    "plt.show()\n"
   ]
  },
  {
   "cell_type": "markdown",
   "metadata": {},
   "source": [
    "Exercise 3"
   ]
  },
  {
   "cell_type": "code",
   "execution_count": null,
   "metadata": {},
   "outputs": [],
   "source": [
    "# Data\n",
    "x = [1, 2, 3, 4, 5]\n",
    "y1 = [1, 4, 9, 16, 25]\n",
    "y2 = [1, 8, 27, 64, 125]\n",
    "\n",
    "# Multiple Lines\n",
    "plt.plot(x, y1, label=\"y = x^2\", marker='o')\n",
    "plt.plot(x, y2, label=\"y = x^3\", marker='s')\n",
    "plt.title(\"Multiple Lines Plot\")\n",
    "plt.xlabel(\"x-axis\")\n",
    "plt.ylabel(\"y-axis\")\n",
    "plt.legend()\n",
    "plt.show()\n"
   ]
  },
  {
   "cell_type": "markdown",
   "metadata": {},
   "source": [
    "Exercise 4"
   ]
  },
  {
   "cell_type": "code",
   "execution_count": null,
   "metadata": {},
   "outputs": [],
   "source": [
    "# Data\n",
    "x = [5, 7, 8, 7, 2, 17, 2, 9, 4, 11]\n",
    "y = [99, 86, 87, 88, 100, 86, 103, 87, 94, 78]\n",
    "\n",
    "# Scatter Plot\n",
    "plt.scatter(x, y, color='green', s=100)\n",
    "plt.title(\"Scatter Plot Example\")\n",
    "plt.xlabel(\"x-axis\")\n",
    "plt.ylabel(\"y-axis\")\n",
    "plt.show()\n"
   ]
  },
  {
   "cell_type": "markdown",
   "metadata": {},
   "source": [
    "Exercise 5"
   ]
  },
  {
   "cell_type": "code",
   "execution_count": null,
   "metadata": {},
   "outputs": [],
   "source": [
    "# Data\n",
    "categories = [\"Apples\", \"Bananas\", \"Cherries\", \"Dates\"]\n",
    "values = [25, 40, 35, 15]\n",
    "\n",
    "# Bar Plot\n",
    "plt.bar(categories, values, color='blue')\n",
    "plt.title(\"Bar Plot Example\")\n",
    "plt.xlabel(\"Fruits\")\n",
    "plt.ylabel(\"Quantity\")\n",
    "plt.show()\n"
   ]
  },
  {
   "cell_type": "markdown",
   "metadata": {},
   "source": [
    "Exercise 6"
   ]
  },
  {
   "cell_type": "code",
   "execution_count": null,
   "metadata": {},
   "outputs": [],
   "source": [
    "import numpy as np\n",
    "\n",
    "# Data\n",
    "data = np.random.randn(1000)\n",
    "\n",
    "# Histogram\n",
    "plt.hist(data, bins=30, color='orange')\n",
    "plt.title(\"Histogram Example\")\n",
    "plt.xlabel(\"Value\")\n",
    "plt.ylabel(\"Frequency\")\n",
    "plt.show()\n"
   ]
  },
  {
   "cell_type": "markdown",
   "metadata": {},
   "source": [
    "Exercise 7"
   ]
  },
  {
   "cell_type": "code",
   "execution_count": null,
   "metadata": {},
   "outputs": [],
   "source": [
    "# Data\n",
    "labels = [\"Python\", \"Java\", \"C++\", \"Ruby\"]\n",
    "sizes = [40, 30, 20, 10]\n",
    "explode = (0.1, 0, 0, 0)  # Explode the first slice (Python)\n",
    "\n",
    "# Pie Chart\n",
    "plt.pie(sizes, explode=explode, labels=labels, autopct='%1.1f%%', startangle=140)\n",
    "plt.title(\"Programming Languages Usage\")\n",
    "plt.show()\n"
   ]
  },
  {
   "cell_type": "markdown",
   "metadata": {},
   "source": [
    "Exerise 8"
   ]
  },
  {
   "cell_type": "code",
   "execution_count": null,
   "metadata": {},
   "outputs": [],
   "source": [
    "# Data\n",
    "x = [0, 1, 2, 3, 4, 5]\n",
    "y = [0, 1, 4, 9, 16, 25]\n",
    "categories = [\"Apples\", \"Bananas\", \"Cherries\", \"Dates\"]\n",
    "values = [25, 40, 35, 15]\n",
    "\n",
    "# Subplots\n",
    "plt.subplot(1, 2, 1)\n",
    "plt.plot(x, y)\n",
    "plt.title(\"y = x^2\")\n",
    "\n",
    "plt.subplot(1, 2, 2)\n",
    "plt.bar(categories, values, color='blue')\n",
    "plt.title(\"Bar Plot\")\n",
    "\n",
    "plt.tight_layout()  # Adjust layout to prevent overlap\n",
    "plt.show()\n"
   ]
  },
  {
   "cell_type": "markdown",
   "metadata": {},
   "source": [
    "Exercise 9"
   ]
  },
  {
   "cell_type": "code",
   "execution_count": null,
   "metadata": {},
   "outputs": [],
   "source": [
    "# Data\n",
    "x = np.linspace(0, 2 * np.pi, 100)\n",
    "y = np.sin(x)\n",
    "\n",
    "# Plot\n",
    "plt.plot(x, y)\n",
    "plt.title(\"Sine Wave\")\n",
    "plt.xlabel(\"x\")\n",
    "plt.ylabel(\"sin(x)\")\n",
    "\n",
    "# Save plot\n",
    "plt.savefig(\"sine_wave.png\")\n",
    "plt.show()\n"
   ]
  }
 ],
 "metadata": {
  "kernelspec": {
   "display_name": "Python 3",
   "language": "python",
   "name": "python3"
  },
  "language_info": {
   "codemirror_mode": {
    "name": "ipython",
    "version": 3
   },
   "file_extension": ".py",
   "mimetype": "text/x-python",
   "name": "python",
   "nbconvert_exporter": "python",
   "pygments_lexer": "ipython3",
   "version": "3.11.2"
  }
 },
 "nbformat": 4,
 "nbformat_minor": 2
}
