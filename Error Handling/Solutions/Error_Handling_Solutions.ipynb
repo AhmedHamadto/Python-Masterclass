{
 "cells": [
  {
   "cell_type": "markdown",
   "metadata": {},
   "source": [
    "Exercise 1"
   ]
  },
  {
   "cell_type": "code",
   "execution_count": null,
   "metadata": {},
   "outputs": [],
   "source": [
    "# Function to divide two numbers\n",
    "def divide_numbers():\n",
    "    try:\n",
    "        num1 = float(input(\"Enter the first number: \"))\n",
    "        num2 = float(input(\"Enter the second number: \"))\n",
    "        result = num1 / num2\n",
    "        print(f\"Result: {result}\")\n",
    "    except ZeroDivisionError:\n",
    "        print(\"Error: Cannot divide by zero!\")\n",
    "\n",
    "# Call the function\n",
    "divide_numbers()\n"
   ]
  },
  {
   "cell_type": "markdown",
   "metadata": {},
   "source": [
    "Exercise 2"
   ]
  },
  {
   "cell_type": "code",
   "execution_count": null,
   "metadata": {},
   "outputs": [],
   "source": [
    "# Function to handle multiple exceptions\n",
    "def divide_numbers():\n",
    "    try:\n",
    "        num1 = float(input(\"Enter the first number: \"))\n",
    "        num2 = float(input(\"Enter the second number: \"))\n",
    "        result = num1 / num2\n",
    "        print(f\"Result: {result}\")\n",
    "    except ZeroDivisionError:\n",
    "        print(\"Error: Division by zero is not allowed!\")\n",
    "    except ValueError:\n",
    "        print(\"Error: Please enter a valid number!\")\n",
    "\n",
    "# Call the function\n",
    "divide_numbers()\n"
   ]
  },
  {
   "cell_type": "markdown",
   "metadata": {},
   "source": [
    "Exercise 3"
   ]
  },
  {
   "cell_type": "code",
   "execution_count": null,
   "metadata": {},
   "outputs": [],
   "source": [
    "# Function to use try-except-else\n",
    "def square_number():\n",
    "    try:\n",
    "        num = float(input(\"Enter a number: \"))\n",
    "    except ValueError:\n",
    "        print(\"Error: Invalid number!\")\n",
    "    else:\n",
    "        print(f\"The square of {num} is {num ** 2}\")\n",
    "\n",
    "# Call the function\n",
    "square_number()\n"
   ]
  },
  {
   "cell_type": "markdown",
   "metadata": {},
   "source": [
    "Exercise 4"
   ]
  },
  {
   "cell_type": "code",
   "execution_count": null,
   "metadata": {},
   "outputs": [],
   "source": [
    "# Function to use try-except-else-finally\n",
    "def square_number():\n",
    "    try:\n",
    "        num = float(input(\"Enter a number: \"))\n",
    "    except ValueError:\n",
    "        print(\"Error: Invalid number!\")\n",
    "    else:\n",
    "        print(f\"The square of {num} is {num ** 2}\")\n",
    "    finally:\n",
    "        print(\"End of Program\")\n",
    "\n",
    "# Call the function\n",
    "square_number()\n"
   ]
  },
  {
   "cell_type": "markdown",
   "metadata": {},
   "source": [
    "Exercise 5"
   ]
  },
  {
   "cell_type": "code",
   "execution_count": null,
   "metadata": {},
   "outputs": [],
   "source": [
    "# Function to raise an exception for invalid age\n",
    "def check_age():\n",
    "    try:\n",
    "        age = int(input(\"Enter your age: \"))\n",
    "        if age < 0 or age > 120:\n",
    "            raise ValueError(\"Age must be between 0 and 120\")\n",
    "    except ValueError as e:\n",
    "        print(f\"Error: {e}\")\n",
    "    else:\n",
    "        print(f\"Your age is {age}\")\n",
    "\n",
    "# Call the function\n",
    "check_age()\n"
   ]
  },
  {
   "cell_type": "markdown",
   "metadata": {},
   "source": [
    "Exercise 6"
   ]
  },
  {
   "cell_type": "code",
   "execution_count": null,
   "metadata": {},
   "outputs": [],
   "source": [
    "# Custom Exception\n",
    "class NegativeNumberError(Exception):\n",
    "    pass\n",
    "\n",
    "# Function to check for negative numbers\n",
    "def check_positive_number():\n",
    "    try:\n",
    "        num = float(input(\"Enter a positive number: \"))\n",
    "        if num < 0:\n",
    "            raise NegativeNumberError(\"Negative numbers are not allowed!\")\n",
    "    except NegativeNumberError as e:\n",
    "        print(f\"Error: {e}\")\n",
    "    except ValueError:\n",
    "        print(\"Error: Invalid input, please enter a number.\")\n",
    "    else:\n",
    "        print(f\"You entered: {num}\")\n",
    "\n",
    "# Call the function\n",
    "check_positive_number()\n"
   ]
  },
  {
   "cell_type": "markdown",
   "metadata": {},
   "source": [
    "Exercise 7"
   ]
  },
  {
   "cell_type": "code",
   "execution_count": null,
   "metadata": {},
   "outputs": [],
   "source": [
    "# Function with nested try-except blocks\n",
    "def nested_try():\n",
    "    try:\n",
    "        try:\n",
    "            num1 = float(input(\"Enter the first number: \"))\n",
    "        except ValueError:\n",
    "            print(\"Error: First input is not a number.\")\n",
    "            return\n",
    "\n",
    "        try:\n",
    "            num2 = float(input(\"Enter the second number: \"))\n",
    "            result = num1 / num2\n",
    "            print(f\"Result: {result}\")\n",
    "        except ZeroDivisionError:\n",
    "            print(\"Error: Cannot divide by zero!\")\n",
    "        except ValueError:\n",
    "            print(\"Error: Second input is not a number.\")\n",
    "    finally:\n",
    "        print(\"End of nested try-except block\")\n",
    "\n",
    "# Call the function\n",
    "nested_try()\n"
   ]
  },
  {
   "cell_type": "markdown",
   "metadata": {},
   "source": [
    "Exercise 8"
   ]
  },
  {
   "cell_type": "code",
   "execution_count": null,
   "metadata": {},
   "outputs": [],
   "source": [
    "# Function to re-raise an exception\n",
    "def check_string():\n",
    "    try:\n",
    "        user_input = input(\"Enter a string (at least 3 characters): \")\n",
    "        if len(user_input) < 3:\n",
    "            raise ValueError(\"String is too short!\")\n",
    "    except ValueError as e:\n",
    "        print(f\"Caught error: {e}\")\n",
    "        raise  # Re-raising the exception for further handling\n",
    "    finally:\n",
    "        print(\"End of Program\")\n",
    "\n",
    "# Call the function\n",
    "try:\n",
    "    check_string()\n",
    "except ValueError:\n",
    "    print(\"Re-raised error caught in outer try-except block.\")\n"
   ]
  },
  {
   "cell_type": "markdown",
   "metadata": {},
   "source": [
    "Exercise 9"
   ]
  },
  {
   "cell_type": "code",
   "execution_count": null,
   "metadata": {},
   "outputs": [],
   "source": [
    "# Custom Exception\n",
    "class InvalidGradeError(Exception):\n",
    "    def __init__(self, grade):\n",
    "        self.grade = grade\n",
    "        super().__init__(f\"Invalid grade: {grade}. Grade must be between 0 and 100.\")\n",
    "\n",
    "# Function to check grade\n",
    "def check_grade():\n",
    "    try:\n",
    "        grade = float(input(\"Enter a grade (0-100): \"))\n",
    "        if grade < 0 or grade > 100:\n",
    "            raise InvalidGradeError(grade)\n",
    "    except InvalidGradeError as e:\n",
    "        print(f\"Error: {e}\")\n",
    "    except ValueError:\n",
    "        print(\"Error: Invalid input, please enter a number.\")\n",
    "    else:\n",
    "        print(f\"Your grade is {grade}\")\n",
    "\n",
    "# Call the function\n",
    "check_grade()\n"
   ]
  },
  {
   "cell_type": "markdown",
   "metadata": {},
   "source": [
    "Exercise 10"
   ]
  },
  {
   "cell_type": "code",
   "execution_count": null,
   "metadata": {},
   "outputs": [],
   "source": [
    "# Function to check for positive numbers using assert\n",
    "def check_positive_with_assert():\n",
    "    try:\n",
    "        num = float(input(\"Enter a positive number: \"))\n",
    "        assert num > 0, \"Number is not positive!\"\n",
    "    except AssertionError as e:\n",
    "        print(f\"Error: {e}\")\n",
    "    except ValueError:\n",
    "        print(\"Error: Invalid input, please enter a number.\")\n",
    "    else:\n",
    "        print(f\"You entered a positive number: {num}\")\n",
    "\n",
    "# Call the function\n",
    "check_positive_with_assert()\n"
   ]
  }
 ],
 "metadata": {
  "language_info": {
   "name": "python"
  }
 },
 "nbformat": 4,
 "nbformat_minor": 2
}
