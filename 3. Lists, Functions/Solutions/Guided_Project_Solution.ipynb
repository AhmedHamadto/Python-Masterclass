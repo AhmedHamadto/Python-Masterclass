{
 "cells": [
  {
   "cell_type": "markdown",
   "metadata": {},
   "source": [
    "This is the solution to the guided project."
   ]
  },
  {
   "cell_type": "code",
   "execution_count": null,
   "metadata": {},
   "outputs": [],
   "source": [
    "# Step 1: Introduction\n",
    "print(\"Welcome to the Python Functions and Lists Guided Project!\")\n",
    "print(\"Please enter a list of numbers separated by commas:\")"
   ]
  },
  {
   "cell_type": "code",
   "execution_count": null,
   "metadata": {},
   "outputs": [],
   "source": [
    "# Step 2: Getting User Input\n",
    "input_numbers = input()\n",
    "numbers = [int(num) for num in input_numbers.split(',')]"
   ]
  },
  {
   "cell_type": "code",
   "execution_count": null,
   "metadata": {},
   "outputs": [],
   "source": [
    "# Step 3: Basic List Operations\n",
    "def find_sum(numbers):\n",
    "    return sum(numbers)\n",
    "\n",
    "def find_max_min(numbers):\n",
    "    return max(numbers), min(numbers)\n",
    "\n",
    "def find_average(numbers):\n",
    "    return sum(numbers) / len(numbers)\n",
    "\n",
    "sum_result = find_sum(numbers)\n",
    "max_number, min_number = find_max_min(numbers)\n",
    "average = find_average(numbers)\n",
    "\n",
    "print(f\"Sum of the numbers: {sum_result}\")\n",
    "print(f\"Maximum number: {max_number}, Minimum number: {min_number}\")\n",
    "print(f\"Average of the numbers: {average:.2f}\")"
   ]
  },
  {
   "cell_type": "code",
   "execution_count": null,
   "metadata": {},
   "outputs": [],
   "source": [
    "# Step 4: List Manipulation\n",
    "def remove_duplicates(numbers):\n",
    "    return list(set(numbers))\n",
    "\n",
    "def reverse_list(numbers):\n",
    "    return numbers[::-1]\n",
    "\n",
    "def sort_list(numbers):\n",
    "    return sorted(numbers)\n",
    "\n",
    "unique_numbers = remove_duplicates(numbers)\n",
    "reversed_numbers = reverse_list(numbers)\n",
    "sorted_numbers = sort_list(numbers)\n",
    "\n",
    "print(f\"List after removing duplicates: {unique_numbers}\")\n",
    "print(f\"Reversed list: {reversed_numbers}\")\n",
    "print(f\"Sorted list: {sorted_numbers}\")"
   ]
  },
  {
   "cell_type": "code",
   "execution_count": null,
   "metadata": {},
   "outputs": [],
   "source": [
    "# Step 5: List Comprehensions\n",
    "squares = [num ** 2 for num in numbers]\n",
    "even_numbers = [num for num in numbers if num % 2 == 0]\n",
    "\n",
    "print(f\"Squares of the numbers: {squares}\")\n",
    "print(f\"Even numbers from the list: {even_numbers}\")"
   ]
  }
 ],
 "metadata": {
  "language_info": {
   "name": "python"
  },
  "orig_nbformat": 4
 },
 "nbformat": 4,
 "nbformat_minor": 2
}
