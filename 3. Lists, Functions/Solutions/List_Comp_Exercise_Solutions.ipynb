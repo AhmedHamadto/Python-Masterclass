{
 "cells": [
  {
   "cell_type": "code",
   "execution_count": null,
   "metadata": {},
   "outputs": [],
   "source": [
    "squares = [num ** 2 for num in range(1, 6)]\n",
    "print(squares)  # Output: [1, 4, 9, 16, 25]"
   ]
  },
  {
   "cell_type": "code",
   "execution_count": null,
   "metadata": {},
   "outputs": [],
   "source": [
    "even_numbers = [num for num in range(11) if num % 2 == 0]\n",
    "print(even_numbers)  # Output: [0, 2, 4, 6, 8, 10]"
   ]
  },
  {
   "cell_type": "code",
   "execution_count": null,
   "metadata": {},
   "outputs": [],
   "source": [
    "names = [\"alice\", \"bob\", \"charlie\"]\n",
    "uppercase_names = [name.upper() for name in names]\n",
    "print(uppercase_names)  # Output: ['ALICE', 'BOB', 'CHARLIE']\n"
   ]
  },
  {
   "cell_type": "code",
   "execution_count": null,
   "metadata": {},
   "outputs": [],
   "source": [
    "numbers = [1, 2, 3, 4, 5]\n",
    "number_square_tuples = [(num, num ** 2) for num in numbers]\n",
    "print(number_square_tuples)  # Output: [(1, 1), (2, 4), (3, 9), (4, 16), (5, 25)]\n"
   ]
  },
  {
   "cell_type": "code",
   "execution_count": null,
   "metadata": {},
   "outputs": [],
   "source": [
    "matrix = [[1, 2, 3], [4, 5, 6], [7, 8, 9]]\n",
    "flattened_matrix = [num for row in matrix for num in row]\n",
    "print(flattened_matrix)  # Output: [1, 2, 3, 4, 5, 6, 7, 8, 9]\n"
   ]
  },
  {
   "cell_type": "code",
   "execution_count": null,
   "metadata": {},
   "outputs": [],
   "source": [
    "sentence = \"Hello, how are you today?\"\n",
    "vowels = \"aeiouAEIOU\"\n",
    "consonants = [char for char in sentence if char.isalpha() and char not in vowels]\n",
    "print(''.join(consonants))  # Output: \"Hll, hw r y tdy?\"\n"
   ]
  },
  {
   "cell_type": "code",
   "execution_count": null,
   "metadata": {},
   "outputs": [],
   "source": [
    "list1 = [1, 2, 3]\n",
    "list2 = ['A', 'B']\n",
    "pairs = [(x, y) for x in list1 for y in list2]\n",
    "print(pairs)  # Output: [(1, 'A'), (1, 'B'), (2, 'A'), (2, 'B'), (3, 'A'), (3, 'B')]\n"
   ]
  },
  {
   "cell_type": "code",
   "execution_count": null,
   "metadata": {},
   "outputs": [],
   "source": [
    "def is_prime(n):\n",
    "    if n < 2:\n",
    "        return False\n",
    "    for i in range(2, int(n**0.5) + 1):\n",
    "        if n % i == 0:\n",
    "            return False\n",
    "    return True\n",
    "\n",
    "limit = 20\n",
    "prime_numbers = [num for num in range(2, limit + 1) if is_prime(num)]\n",
    "print(prime_numbers)  # Output: [2, 3, 5, 7, 11, 13, 17, 19]\n"
   ]
  },
  {
   "cell_type": "code",
   "execution_count": null,
   "metadata": {},
   "outputs": [],
   "source": [
    "sentence = \"This is an example sentence with some common words such as 'is', 'an', 'with', and 'some'.\"\n",
    "stop_words = {'is', 'an', 'with', 'and', 'some'}\n",
    "words = [word for word in sentence.split() if word.lower() not in stop_words]\n",
    "print(words)  # Output: ['This', 'example', 'sentence', 'common', 'words', 'such', 'as', \"'is',\", \"'an',\", \"'some'.\"]\n"
   ]
  }
 ],
 "metadata": {
  "language_info": {
   "name": "python"
  },
  "orig_nbformat": 4
 },
 "nbformat": 4,
 "nbformat_minor": 2
}
