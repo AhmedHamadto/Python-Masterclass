{
 "cells": [
  {
   "cell_type": "markdown",
   "metadata": {},
   "source": [
    "#\n",
    "# Functions.ipynb - This is a program to explain how functions work in Python\n",
    "#\n",
    "# Author: Ahmed Abdelmuniem Abdalla Mohammed\n",
    "#\n",
    "# Last Modified: 2024-07-26\n",
    "# "
   ]
  },
  {
   "cell_type": "markdown",
   "metadata": {},
   "source": [
    "Module 1: Function Basics"
   ]
  },
  {
   "cell_type": "code",
   "execution_count": 5,
   "metadata": {},
   "outputs": [],
   "source": [
    "# This is a function to greet a user by name\n",
    "def greet_user(name, name2):\n",
    "    print(f\"Hello, {name}! How are you today?\")"
   ]
  },
  {
   "cell_type": "code",
   "execution_count": 6,
   "metadata": {},
   "outputs": [
    {
     "name": "stdout",
     "output_type": "stream",
     "text": [
      "Hello, Alice! How are you today?\n"
     ]
    },
    {
     "ename": "TypeError",
     "evalue": "greet_user() missing 1 required positional argument: 'name2'",
     "output_type": "error",
     "traceback": [
      "\u001b[0;31m---------------------------------------------------------------------------\u001b[0m",
      "\u001b[0;31mTypeError\u001b[0m                                 Traceback (most recent call last)",
      "Cell \u001b[0;32mIn[6], line 3\u001b[0m\n\u001b[1;32m      1\u001b[0m \u001b[38;5;66;03m# Test the function with different names\u001b[39;00m\n\u001b[1;32m      2\u001b[0m greet_user(\u001b[38;5;124m\"\u001b[39m\u001b[38;5;124mAlice\u001b[39m\u001b[38;5;124m\"\u001b[39m, \u001b[38;5;124m\"\u001b[39m\u001b[38;5;124mAlex\u001b[39m\u001b[38;5;124m\"\u001b[39m)\n\u001b[0;32m----> 3\u001b[0m \u001b[43mgreet_user\u001b[49m\u001b[43m(\u001b[49m\u001b[38;5;124;43m\"\u001b[39;49m\u001b[38;5;124;43mBob\u001b[39;49m\u001b[38;5;124;43m\"\u001b[39;49m\u001b[43m)\u001b[49m\n\u001b[1;32m      4\u001b[0m greet_user(\u001b[38;5;124m\"\u001b[39m\u001b[38;5;124mCharlie\u001b[39m\u001b[38;5;124m\"\u001b[39m)\n",
      "\u001b[0;31mTypeError\u001b[0m: greet_user() missing 1 required positional argument: 'name2'"
     ]
    }
   ],
   "source": [
    "# Test the function with different names\n",
    "greet_user(\"Alice\", \"Alex\")\n",
    "greet_user(\"Bob\")\n",
    "greet_user(\"Charlie\")"
   ]
  },
  {
   "cell_type": "code",
   "execution_count": 1,
   "metadata": {},
   "outputs": [],
   "source": [
    "def weather_greeting(name, time_of_day):\n",
    "    if time_of_day < 0 or time_of_day > 24:\n",
    "        print(f\"Hello {name}, you've mastered time travel\")\n",
    "    elif 6 <time_of_day< 12:\n",
    "        print(f\"Good Morning, {name}! what a wonderful day it is\")\n",
    "    elif 12 < time_of_day< 18:\n",
    "        print(f\"Good Afternoon, {name}! we're half way through the day\")\n",
    "    elif 18<time_of_day<22:\n",
    "        print(f\"Good evening, {name} it's time to wind down\")\n",
    "    else:\n",
    "        print(f\"Hello, {name} what are you doing up?\")"
   ]
  },
  {
   "cell_type": "code",
   "execution_count": 2,
   "metadata": {},
   "outputs": [
    {
     "name": "stdout",
     "output_type": "stream",
     "text": [
      "Hello James, you've mastered time travel\n"
     ]
    }
   ],
   "source": [
    "weather_greeting(\"James\", 25)"
   ]
  },
  {
   "cell_type": "code",
   "execution_count": 7,
   "metadata": {},
   "outputs": [],
   "source": [
    "def calculate (num1, num2, operator):\n",
    "    if operator == \"+\":\n",
    "        print( num1 + num2)\n",
    "    elif operator == \"-\":\n",
    "        return num1 - num2\n",
    "    elif operator == \"*\":\n",
    "        return num1 * num2\n",
    "    elif operator == \"/\":\n",
    "        return num1/num2\n",
    "    else:\n",
    "        print(\"This is a funny operator\")\n",
    "        return \"Wanna try again?\""
   ]
  },
  {
   "cell_type": "code",
   "execution_count": 12,
   "metadata": {},
   "outputs": [
    {
     "name": "stdout",
     "output_type": "stream",
     "text": [
      "This is the value of the result 0.8888888888888888\n"
     ]
    }
   ],
   "source": [
    "result1 = calculate(80,90,\"/\")\n",
    "print(f\"This is the value of the result {result1}\")\n",
    "# result2 = calculate(result1, 10, \"*\")\n",
    "# print(result2)"
   ]
  },
  {
   "cell_type": "code",
   "execution_count": 18,
   "metadata": {},
   "outputs": [],
   "source": [
    "def greet():\n",
    "    print(\"Hello\")"
   ]
  },
  {
   "cell_type": "code",
   "execution_count": 19,
   "metadata": {},
   "outputs": [
    {
     "name": "stdout",
     "output_type": "stream",
     "text": [
      "Hello\n"
     ]
    }
   ],
   "source": [
    "greet()"
   ]
  },
  {
   "cell_type": "markdown",
   "metadata": {},
   "source": [
    "This is a function to calculate the average of three numbers"
   ]
  },
  {
   "cell_type": "code",
   "execution_count": null,
   "metadata": {},
   "outputs": [],
   "source": [
    "def calculate_average(num1, num2, num3):\n",
    "    return (num1 + num2 + num3) / 3"
   ]
  },
  {
   "cell_type": "code",
   "execution_count": null,
   "metadata": {},
   "outputs": [],
   "source": [
    "result = calculate_average(10, 20, 30)\n",
    "print(\"Average:\", result)"
   ]
  },
  {
   "cell_type": "markdown",
   "metadata": {},
   "source": [
    "Module 2: Returning Values and Scopes"
   ]
  },
  {
   "cell_type": "markdown",
   "metadata": {},
   "source": [
    "This is a function to find the maximum value in a list of numbers"
   ]
  },
  {
   "cell_type": "code",
   "execution_count": null,
   "metadata": {},
   "outputs": [],
   "source": [
    "def find_max(numbers):\n",
    "    max_value = numbers[0]\n",
    "    for num in numbers:\n",
    "        if num > max_value:\n",
    "            max_value = num\n",
    "    return max_value"
   ]
  },
  {
   "cell_type": "code",
   "execution_count": null,
   "metadata": {},
   "outputs": [],
   "source": [
    "numbers_list = [12, 45, 23, 6, 78, 34]\n",
    "print(\"Max value:\", find_max(numbers_list))"
   ]
  },
  {
   "cell_type": "code",
   "execution_count": null,
   "metadata": {},
   "outputs": [],
   "source": [
    "def find_min(numbers):\n",
    "    min_value = numbers[0]\n",
    "    for num in numbers:\n",
    "        print(f\"The current number is {num}\")\n",
    "        if num < min_value:\n",
    "            \n",
    "            min_value = num\n",
    "    return min_value"
   ]
  },
  {
   "cell_type": "code",
   "execution_count": null,
   "metadata": {},
   "outputs": [],
   "source": [
    "numbers_list = [13, 18,26,45, 39, 3]\n",
    "print(f\"Min value: {find_min(numbers_list)}\")"
   ]
  },
  {
   "cell_type": "code",
   "execution_count": null,
   "metadata": {},
   "outputs": [],
   "source": [
    "def convert_to_fahrenheit(celsius):\n",
    "    fahrenheit = (celsius * 9/5) + 32\n",
    "    return fahrenheit\n"
   ]
  },
  {
   "cell_type": "code",
   "execution_count": null,
   "metadata": {},
   "outputs": [],
   "source": [
    "temperature_celsius = 25\n",
    "print(f\"{temperature_celsius}°C is equal to {convert_to_fahrenheit(temperature_celsius)}°F.\")"
   ]
  },
  {
   "cell_type": "markdown",
   "metadata": {},
   "source": [
    "Module 3: Anonymous Functions - Lambda Functions"
   ]
  },
  {
   "cell_type": "code",
   "execution_count": 15,
   "metadata": {},
   "outputs": [
    {
     "name": "stdout",
     "output_type": "stream",
     "text": [
      "Original numbers: [1, 2, 3, 4, 5]\n",
      "Squared numbers: [1, 4, 9, 16, 25]\n"
     ]
    }
   ],
   "source": [
    "numbers = [1, 2, 3, 4, 5]\n",
    "squared_numbers = list(map(lambda x: x ** 2, numbers))\n",
    "print(\"Original numbers:\", numbers)\n",
    "print(\"Squared numbers:\", squared_numbers)"
   ]
  },
  {
   "cell_type": "markdown",
   "metadata": {},
   "source": [
    "Module 4: Function Decorators"
   ]
  },
  {
   "cell_type": "code",
   "execution_count": null,
   "metadata": {},
   "outputs": [],
   "source": [
    "def make_uppercase(func):\n",
    "    def wrapper(*args, **kwargs):\n",
    "        result = func(*args, **kwargs)\n",
    "        return result.upper()\n",
    "    return wrapper\n",
    "\n",
    "@make_uppercase\n",
    "def greet(name):\n",
    "    return f\"Hello, {name}!\"\n",
    "\n",
    "print(greet(\"Alice\"))\n",
    "print(greet(\"Bob\"))\n"
   ]
  },
  {
   "cell_type": "markdown",
   "metadata": {},
   "source": [
    "Module 5: Recursive Functions"
   ]
  },
  {
   "cell_type": "code",
   "execution_count": 13,
   "metadata": {},
   "outputs": [
    {
     "name": "stdout",
     "output_type": "stream",
     "text": [
      "Factorial of 5: 120\n",
      "Factorial of 0: 1\n",
      "Factorial of 10: 3628800\n"
     ]
    }
   ],
   "source": [
    "def factorial(n):\n",
    "    if n == 0 or n == 1:\n",
    "        return 1\n",
    "    else:\n",
    "        return n * factorial(n-1)\n",
    "\n",
    "# Test the function with different values\n",
    "print(\"Factorial of 5:\", factorial(5))\n",
    "print(\"Factorial of 0:\", factorial(0))\n",
    "print(\"Factorial of 10:\", factorial(10))\n"
   ]
  },
  {
   "cell_type": "markdown",
   "metadata": {},
   "source": [
    "Module 6: Revision"
   ]
  },
  {
   "cell_type": "code",
   "execution_count": 14,
   "metadata": {},
   "outputs": [
    {
     "name": "stdout",
     "output_type": "stream",
     "text": [
      "True\n",
      "False\n",
      "True\n"
     ]
    }
   ],
   "source": [
    "def is_even(number):\n",
    "    return number % 2 == 0\n",
    "\n",
    "\n",
    "print(is_even(10))\n",
    "print(is_even(7))\n",
    "print(is_even(22))"
   ]
  },
  {
   "cell_type": "markdown",
   "metadata": {},
   "source": [
    "Exercises:\n",
    "## Module 1: Function Basics\n",
    "\n",
    "### Easy Exercise:\n",
    "Write a function called `say_hello` that takes a name as an argument and returns a greeting message as a string.\n",
    "\n",
    "### Intermediate Exercise:\n",
    "Write a function called `calculate_factorial` that takes a positive integer as an argument and returns its factorial.\n",
    "\n",
    "### Advanced Exercise:\n",
    "Write a function called `find_primes` that takes a positive integer as an argument and returns a list of all prime numbers up to that integer.\n",
    "\n",
    "## Module 2: Returning Values\n",
    "\n",
    "### Easy Exercise:\n",
    "Write a function called `sum_numbers` that takes a list of numbers as an argument and returns their sum.\n",
    "\n",
    "### Intermediate Exercise:\n",
    "Write a function called `is_palindrome` that takes a string as an argument and returns True if the string is a palindrome (reads the same backward as forward), and False otherwise.\n",
    "\n",
    "### Advanced Exercise:\n",
    "Write a function called `unique_words` that takes a list of strings as an argument and returns a set containing all unique words (ignoring case and punctuation) from the list.\n",
    "\n",
    "## Module 3: Anonymous Functions (Lambda Functions)\n",
    "\n",
    "### Easy Exercise:\n",
    "Use a lambda function to calculate the square of a given number.\n",
    "\n",
    "### Intermediate Exercise:\n",
    "Use lambda functions with `filter` to extract all odd numbers from a list of integers.\n",
    "\n",
    "### Advanced Exercise:\n",
    "Write a function called `sort_by_second_element` that takes a list of tuples, each containing two elements, and returns the list sorted based on the second element of each tuple.\n",
    "\n",
    "## Module 4: Function Decorators\n",
    "\n",
    "### Easy Exercise:\n",
    "Create a decorator called `time_it` that measures and prints the execution time of a function.\n",
    "\n",
    "### Intermediate Exercise:\n",
    "Create a decorator called `retry` that retries calling a function up to three times if it raises an exception.\n",
    "\n",
    "### Advanced Exercise:\n",
    "Create a decorator called `authenticate` that checks if a user is logged in before executing a function. If the user is not logged in, raise an exception or redirect them to a login page.\n",
    "\n",
    "## Module 5: Recursive Functions\n",
    "\n",
    "### Easy Exercise:\n",
    "Write a recursive function called `count_down` that takes a positive integer as an argument and prints a countdown from that number to 1.\n",
    "\n",
    "### Intermediate Exercise:\n",
    "Write a recursive function called `power` that takes two integers, `base` and `exponent`, as arguments and returns the result of raising `base` to the power of `exponent`.\n",
    "\n",
    "### Advanced Exercise:\n",
    "Write a recursive function called `binary_search` that searches for a target element in a sorted list and returns its index. If the element is not found, return None.\n",
    "\n",
    "## Module 6: Best Practices and Tips\n",
    "\n",
    "### Easy Exercise:\n",
    "Write a function called `sum_of_squares` that takes a list of numbers as an argument and returns the sum of their squares.\n",
    "\n",
    "### Intermediate Exercise:\n",
    "Write a function called `remove_duplicates` that takes a list as an argument and returns a new list with duplicates removed.\n",
    "\n",
    "### Advanced Exercise:\n",
    "Write a function called `transpose_matrix` that takes a 2D matrix (list of lists) as an argument and returns the transposed matrix (rows become columns and vice versa).\n",
    "\n",
    "These exercises cover various aspects of functions and reinforce the concepts taught in each module. They offer opportunities for students to apply their knowledge and skills at different difficulty levels."
   ]
  }
 ],
 "metadata": {
  "kernelspec": {
   "display_name": "Python 3",
   "language": "python",
   "name": "python3"
  },
  "language_info": {
   "codemirror_mode": {
    "name": "ipython",
    "version": 3
   },
   "file_extension": ".py",
   "mimetype": "text/x-python",
   "name": "python",
   "nbconvert_exporter": "python",
   "pygments_lexer": "ipython3",
   "version": "3.11.2"
  },
  "orig_nbformat": 4
 },
 "nbformat": 4,
 "nbformat_minor": 2
}
