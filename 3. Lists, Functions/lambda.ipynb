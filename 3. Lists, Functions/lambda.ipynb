{
 "cells": [
  {
   "cell_type": "code",
   "execution_count": null,
   "metadata": {},
   "outputs": [],
   "source": [
    "# Python Notebook for Beginners - Lambda Functions\n",
    "\n",
    "# -------------------------------------------------------------\n",
    "# Introduction to Lambda Functions\n",
    "# -------------------------------------------------------------\n",
    "# In Python, a lambda function is a small anonymous function.\n",
    "# It can take any number of arguments but can only have one expression.\n",
    "# Lambda functions are often used when a simple function is needed for a short period of time.\n",
    "\n",
    "# Syntax:\n",
    "# lambda arguments: expression\n",
    "\n",
    "# Let's see an example of a normal function first.\n",
    "\n",
    "# Normal function to add 10 to a number\n",
    "def add_10(x):\n",
    "    return x + 10\n",
    "\n",
    "# Using the normal function\n",
    "print(add_10(5))  # Output: 15\n",
    "\n",
    "# -------------------------------------------------------------\n",
    "# Using a Lambda Function\n",
    "# -------------------------------------------------------------\n",
    "\n",
    "# The same function using lambda\n",
    "# Here, 'x' is the argument, and 'x + 10' is the expression\n",
    "add_10_lambda = lambda x: x + 10\n",
    "\n",
    "# Using the lambda function\n",
    "print(add_10_lambda(5))  # Output: 15\n",
    "\n",
    "# As you can see, the lambda function does the same thing as the normal function,\n",
    "# but it is written in a more compact way.\n",
    "\n"
   ]
  },
  {
   "cell_type": "code",
   "execution_count": null,
   "metadata": {},
   "outputs": [],
   "source": [
    "# -------------------------------------------------------------\n",
    "# Example 2: Lambda function with multiple arguments\n",
    "# -------------------------------------------------------------\n",
    "\n",
    "# Normal function to multiply two numbers\n",
    "def multiply(x, y):\n",
    "    return x * y\n",
    "\n",
    "# Using the normal function\n",
    "print(multiply(4, 5))  # Output: 20\n",
    "\n",
    "# The same function using lambda\n",
    "multiply_lambda = lambda x, y: x * y\n",
    "\n",
    "# Using the lambda function\n",
    "print(multiply_lambda(4, 5))  # Output: 20\n",
    "\n",
    "# Lambda functions are often used in cases where we need a simple function for a short period.\n",
    "# For example, with map(), filter(), and sorted() functions."
   ]
  },
  {
   "cell_type": "code",
   "execution_count": null,
   "metadata": {},
   "outputs": [],
   "source": [
    "# -------------------------------------------------------------\n",
    "# Using lambda with map() function\n",
    "# -------------------------------------------------------------\n",
    "# The map() function applies a function to all items in a list.\n",
    "\n",
    "numbers = [1, 2, 3, 4, 5]\n",
    "\n",
    "# Using map() with a normal function to add 10 to each number\n",
    "def add_10(x):\n",
    "    return x + 10\n",
    "\n",
    "result = map(add_10, numbers)\n",
    "print(list(result))  # Output: [11, 12, 13, 14, 15]\n",
    "\n",
    "# Using map() with a lambda function\n",
    "result_lambda = map(lambda x: x + 10, numbers)\n",
    "print(list(result_lambda))  # Output: [11, 12, 13, 14, 15]"
   ]
  },
  {
   "cell_type": "code",
   "execution_count": null,
   "metadata": {},
   "outputs": [],
   "source": [
    "# -------------------------------------------------------------\n",
    "# Using lambda with filter() function\n",
    "# -------------------------------------------------------------\n",
    "# The filter() function returns items that satisfy a condition.\n",
    "\n",
    "# Using filter() with a normal function to filter even numbers\n",
    "def is_even(x):\n",
    "    return x % 2 == 0\n",
    "\n",
    "even_numbers = filter(is_even, numbers)\n",
    "print(list(even_numbers))  # Output: [2, 4]\n",
    "\n",
    "# Using filter() with a lambda function\n",
    "even_numbers_lambda = filter(lambda x: x % 2 == 0, numbers)\n",
    "print(list(even_numbers_lambda))  # Output: [2, 4]"
   ]
  },
  {
   "cell_type": "code",
   "execution_count": null,
   "metadata": {},
   "outputs": [],
   "source": [
    "# -------------------------------------------------------------\n",
    "# Using lambda with sorted() function\n",
    "# -------------------------------------------------------------\n",
    "# The sorted() function sorts items in a list, and we can use lambda to customise the sorting.\n",
    "\n",
    "# List of tuples (name, age)\n",
    "people = [('Alice', 25), ('Bob', 30), ('Charlie', 20)]\n",
    "\n",
    "# Sorting by age using a normal function\n",
    "def sort_by_age(person):\n",
    "    return person[1]\n",
    "\n",
    "sorted_people = sorted(people, key=sort_by_age)\n",
    "print(sorted_people)  # Output: [('Charlie', 20), ('Alice', 25), ('Bob', 30)]\n",
    "\n",
    "# Sorting by age using a lambda function\n",
    "sorted_people_lambda = sorted(people, key=lambda person: person[1])\n",
    "print(sorted_people_lambda)  # Output: [('Charlie', 20), ('Alice', 25), ('Bob', 30)]"
   ]
  },
  {
   "cell_type": "code",
   "execution_count": null,
   "metadata": {},
   "outputs": [],
   "source": [
    "# -------------------------------------------------------------\n",
    "# Exercise 1: Try to create a lambda function that squares a number.\n",
    "# -------------------------------------------------------------\n",
    "\n",
    "# Normal function\n",
    "def square(x):\n",
    "    return x ** 2\n",
    "\n",
    "# Write your lambda function here:\n",
    "square_lambda = lambda x: x ** 2\n",
    "\n",
    "# Test it\n",
    "print(square_lambda(4))  # Output: 16\n"
   ]
  },
  {
   "cell_type": "code",
   "execution_count": null,
   "metadata": {},
   "outputs": [],
   "source": [
    "# -------------------------------------------------------------\n",
    "# Exercise 2: Write a lambda function to find the maximum of two numbers.\n",
    "# -------------------------------------------------------------\n",
    "\n",
    "# Write your lambda function here:\n",
    "max_lambda = lambda x, y: x if x > y else y\n",
    "\n",
    "# Test it\n",
    "print(max_lambda(10, 20))  # Output: 20\n"
   ]
  }
 ],
 "metadata": {
  "kernelspec": {
   "display_name": "Python 3",
   "language": "python",
   "name": "python3"
  },
  "language_info": {
   "codemirror_mode": {
    "name": "ipython",
    "version": 3
   },
   "file_extension": ".py",
   "mimetype": "text/x-python",
   "name": "python",
   "nbconvert_exporter": "python",
   "pygments_lexer": "ipython3",
   "version": "3.11.2"
  }
 },
 "nbformat": 4,
 "nbformat_minor": 2
}
