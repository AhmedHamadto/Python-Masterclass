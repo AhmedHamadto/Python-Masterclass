{
 "cells": [
  {
   "cell_type": "markdown",
   "metadata": {},
   "source": [
    "**Exercise 1: Simple Calculator**\n",
    "Create a simple calculator program that takes two numbers and an operator (+, -, *, /) as input from the user and performs the corresponding operation.\n",
    "\n",
    "**Exercise 2: Temperature Converter**\n",
    "Write a program that converts temperatures between Fahrenheit and Celsius. Ask the user for a temperature and whether it's in Fahrenheit or Celsius, then perform the conversion.\n",
    "\n",
    "**Exercise 3: Odd or Even Numbers**\n",
    "Write a program that takes a number as input and prints whether it's odd or even.\n",
    "\n",
    "**Exercise 4: Guess the Number Game** [Hint: It uses the random module]\n",
    "Create a number guessing game where the computer generates a random number and the user has to guess it. Provide hints like \"too high\" or \"too low\" after each guess.\n",
    "\n",
    "**Exercise 5: Factorial Calculator**\n",
    "Write a program to calculate the factorial of a given number using a `for` loop.\n",
    "\n",
    "**Exercise 6: Fibonacci Sequence**\n",
    "Generate and print the first n numbers of the Fibonacci sequence using a loop.\n",
    "\n",
    "**Exercise 7: Vowel Counter**\n",
    "Write a program that takes a string as input and counts the number of vowels (a, e, i, o, u) in it.\n",
    "\n",
    "**Exercise 8: Prime Number Checker**\n",
    "Create a program that checks whether a given number is prime or not.\n",
    "\n",
    "**Exercise 9: List Manipulation**\n",
    "Given a list of numbers, create a new list that contains only the even numbers from the original list.\n",
    "\n",
    "**Exercise 10: Rock-Paper-Scissors Game**\n",
    "Develop a rock-paper-scissors game where the user plays against the computer. Take user input, generate computer's choice, and determine the winner.\n",
    "\n",
    "Feel free to customise these exercises or come up with your own challenges. As you work through them, you'll not only reinforce your understanding of variables, data types, loops, and control structures but also gain confidence in applying these concepts to solve real-world problems. Happy coding! 🚀🐍"
   ]
  }
 ],
 "metadata": {
  "language_info": {
   "name": "python"
  },
  "orig_nbformat": 4
 },
 "nbformat": 4,
 "nbformat_minor": 2
}
