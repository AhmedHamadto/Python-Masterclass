{
 "cells": [
  {
   "cell_type": "markdown",
   "metadata": {},
   "source": [
    "Exercise 1: Basic if Statement\n",
    "Task: Write a program that asks the user for their age and prints a message saying if they are eligible to vote. The voting age is 18."
   ]
  },
  {
   "cell_type": "markdown",
   "metadata": {},
   "source": [
    "Exercise 2: Using elif\n",
    "Task: Write a program that asks the user for a number and checks if the number is positive, negative, or zero."
   ]
  },
  {
   "cell_type": "markdown",
   "metadata": {},
   "source": [
    "Exercise 3: Nested if Statements\n",
    "Task: Write a program that asks the user to enter a number. If the number is positive, check if it is even or odd."
   ]
  },
  {
   "cell_type": "markdown",
   "metadata": {},
   "source": [
    "Exercise 4: Multiple elif Conditions\n",
    "Task: Write a program that asks the user for their exam score and prints the corresponding grade. Use the following grading scheme:\n",
    "\n",
    "90-100: A\n",
    "80-89: B\n",
    "70-79: C\n",
    "60-69: D\n",
    "Below 60: F"
   ]
  },
  {
   "cell_type": "markdown",
   "metadata": {},
   "source": [
    "Exercise 5: Complex Nested if Statements\n",
    "Task: Write a program that asks the user for their age and their membership status (yes/no). If they are under 18, they get a child discount. If they are 18 or older, check if they are a member. Members get a discount; non-members do not."
   ]
  }
 ],
 "metadata": {
  "language_info": {
   "name": "python"
  }
 },
 "nbformat": 4,
 "nbformat_minor": 2
}
