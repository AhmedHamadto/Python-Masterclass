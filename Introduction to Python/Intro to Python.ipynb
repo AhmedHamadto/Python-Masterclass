{
 "cells": [
  {
   "cell_type": "code",
   "execution_count": null,
   "metadata": {},
   "outputs": [],
   "source": [
    "#\n",
    "# Intro to Python.py : This program is an introduction to Python.\n",
    "#\n",
    "# Author: Ahmed Abdelmuniem\n",
    "#\n",
    "# Date: 11/08/2023"
   ]
  },
  {
   "cell_type": "code",
   "execution_count": null,
   "metadata": {},
   "outputs": [],
   "source": [
    "# A programmer's right of passage\n",
    "print(\"Hello, World!\")"
   ]
  },
  {
   "cell_type": "code",
   "execution_count": null,
   "metadata": {},
   "outputs": [],
   "source": [
    "print(\"This is John's Car\")"
   ]
  },
  {
   "cell_type": "code",
   "execution_count": null,
   "metadata": {},
   "outputs": [],
   "source": [
    "print('This is John's Car)"
   ]
  },
  {
   "cell_type": "markdown",
   "metadata": {},
   "source": [
    "Variables:\n",
    "In Python, a variable is like a labeled container that can hold different types of information, such as numbers, text, or other data. It gives a name to a value, making it easier to work with and manipulate data in your programs. You can think of a variable as a storage location that holds a value.\n",
    "\n",
    "To create a variable, you simply give it a name and assign a value to it using the = operator. For example:"
   ]
  },
  {
   "cell_type": "code",
   "execution_count": null,
   "metadata": {},
   "outputs": [],
   "source": [
    "age = 25\n",
    "Alice = \"Alex\"\n",
    "name = Alice\n",
    "friend = Alice\n",
    "neighbour = Alice\n",
    "\n",
    "print(age)\n",
    "print(Alice)\n",
    "print(friend)\n",
    "print(neighbour)"
   ]
  },
  {
   "cell_type": "markdown",
   "metadata": {},
   "source": [
    "Data types define the type of values that variables can hold. Python has several built-in data types, each with its own characteristics and uses. Here are some commonly used data types in Python:"
   ]
  },
  {
   "cell_type": "code",
   "execution_count": null,
   "metadata": {},
   "outputs": [],
   "source": [
    "# Integer (int): Represents whole numbers, positive or negative, without decimals.\n",
    "age = 25"
   ]
  },
  {
   "cell_type": "code",
   "execution_count": null,
   "metadata": {},
   "outputs": [],
   "source": [
    "# Float (float): Represents numbers with decimals.\n",
    "price = 19.99"
   ]
  },
  {
   "cell_type": "code",
   "execution_count": null,
   "metadata": {},
   "outputs": [],
   "source": [
    "# String (str): Represents text or a sequence of characters enclosed in single or double quotes.\n",
    "name = \"Alice\"\n",
    "message = 'Hello, Python!'"
   ]
  },
  {
   "cell_type": "code",
   "execution_count": null,
   "metadata": {},
   "outputs": [],
   "source": [
    "# Boolean (bool): Represents either True or False. Used for logical operations and control flow.\n",
    "is_student = True\n",
    "is_adult = False"
   ]
  },
  {
   "cell_type": "code",
   "execution_count": null,
   "metadata": {},
   "outputs": [],
   "source": [
    "fruit = \"banana\"\n",
    "year = 2024\n",
    "height = 125.5"
   ]
  },
  {
   "cell_type": "code",
   "execution_count": null,
   "metadata": {},
   "outputs": [],
   "source": [
    "# List (list): Represents an ordered collection of values, which can be of different data types.\n",
    "numbers = [1, 3, 4, 2, 5]\n",
    "names = [\"Alice\", \"Bob\", \"Charlie\"]\n",
    "print(numbers)"
   ]
  },
  {
   "cell_type": "code",
   "execution_count": null,
   "metadata": {},
   "outputs": [],
   "source": [
    "number = [1, \"m\", 1.2,\"bananas\", names]\n",
    "print(number)"
   ]
  },
  {
   "cell_type": "code",
   "execution_count": null,
   "metadata": {},
   "outputs": [],
   "source": [
    "# Tuple (tuple): Similar to a list, but immutable (cannot be changed after creation).\n",
    "coordinates = (10, 20)"
   ]
  },
  {
   "cell_type": "code",
   "execution_count": null,
   "metadata": {},
   "outputs": [],
   "source": [
    "# Set (set): Represents an unordered collection of unique values.\n",
    "unique_numbers = {1, 2, 3, 4, 5}"
   ]
  },
  {
   "cell_type": "markdown",
   "metadata": {},
   "source": [
    "These are just a few of the basic data types in Python. As you continue learning, you'll encounter more advanced data types and structures that enable you to handle and manipulate data in powerful ways.\n",
    "\n",
    "Remember, when working with variables, it's important to choose the appropriate data type based on the type of data you're dealing with. Python is dynamically typed, which means you don't need to explicitly declare the data type of a variable; Python determines it automatically based on the assigned value. This flexibility is one of the things that makes Python so versatile and easy to use! 🐍"
   ]
  },
  {
   "cell_type": "code",
   "execution_count": null,
   "metadata": {},
   "outputs": [],
   "source": [
    "# Basic Operations\n",
    "x = 50\n",
    "y = 90\n",
    "\n",
    "sum_result = x + y\n",
    "difference = x - y\n",
    "product = x * y\n",
    "quotient = x / y\n",
    "\n",
    "print(\"Sum:\", sum_result)\n",
    "print(\"Difference:\", difference)\n",
    "print(\"Product:\", product)\n",
    "print(\"Quotient:\", quotient)\n",
    "\n",
    "# Let's dive into all of these operations in more detail."
   ]
  },
  {
   "cell_type": "code",
   "execution_count": null,
   "metadata": {},
   "outputs": [],
   "source": [
    "first_name = \"John\"\n",
    "last_name = \"Doe\"\n",
    "family_name = \" Doe\"\n",
    "\n",
    "fullname1 = first_name + \" \" + last_name\n",
    "fullname_2 = first_name + family_name\n",
    "\n",
    "print(fullname1)\n",
    "print(fullname_2)"
   ]
  },
  {
   "cell_type": "code",
   "execution_count": null,
   "metadata": {},
   "outputs": [],
   "source": [
    "name = input (\"Hello\", \"world\")\n",
    "name"
   ]
  },
  {
   "cell_type": "code",
   "execution_count": null,
   "metadata": {},
   "outputs": [],
   "source": [
    "# Addition (+):\n",
    "# Addition is used to add two or more numbers together.\n",
    "result = 5 + 3  # 8"
   ]
  },
  {
   "cell_type": "code",
   "execution_count": null,
   "metadata": {},
   "outputs": [],
   "source": [
    "# Subtraction (-):\n",
    "# Subtraction is used to find the difference between two numbers.\n",
    "result = 10 - 4  # 6"
   ]
  },
  {
   "cell_type": "code",
   "execution_count": null,
   "metadata": {},
   "outputs": [],
   "source": [
    "# Multiplication (*):\n",
    "# Multiplication is used to find the product of two numbers.\n",
    "result = 6 * 4  # 24"
   ]
  },
  {
   "cell_type": "code",
   "execution_count": null,
   "metadata": {},
   "outputs": [],
   "source": [
    "# Division (/):\n",
    "# Division is used to divide one number by another, and it can result in a floating-point value.\n",
    "result = 15 / 3  # 5.0\n",
    "\n",
    "# In Python, division produces a floating-point result even when both numbers are integers \n",
    "# to ensure accurate representation of the quotient, especially in cases where the division doesn't yield a whole number. \n",
    "# This behavior helps maintain precision and consistency in calculations."
   ]
  },
  {
   "cell_type": "code",
   "execution_count": null,
   "metadata": {},
   "outputs": [],
   "source": [
    "# Floor Division (//):\n",
    "# Floor division is used to divide one number by another and return the integer quotient (rounded down).\n",
    "result = 17 // 4  # 4"
   ]
  },
  {
   "cell_type": "code",
   "execution_count": null,
   "metadata": {},
   "outputs": [],
   "source": [
    "# Modulus (%):\n",
    "# Modulus gives the remainder of the division of one number by another.\n",
    "result = 17 % 5  # 2"
   ]
  },
  {
   "cell_type": "code",
   "execution_count": null,
   "metadata": {},
   "outputs": [],
   "source": [
    "# Exponentiation ():**\n",
    "# Exponentiation raises a number to the power of another number.\n",
    "result = 2 ** 3  # 8"
   ]
  },
  {
   "cell_type": "markdown",
   "metadata": {},
   "source": [
    "Loops:\n",
    "Loops are essential tools in programming that allow you to execute a block of code repeatedly. They help you automate tasks and avoid writing the same code multiple times. Python provides two main types of loops:"
   ]
  },
  {
   "cell_type": "code",
   "execution_count": null,
   "metadata": {},
   "outputs": [],
   "source": [
    "# For Loop: The for loop is used to iterate over a sequence (such as a list, tuple, string, or range) \n",
    "# and execute a block of code for each item in the sequence.\n",
    "numbers = [1, 2, 3, 4, 5]\n",
    "for num in numbers:\n",
    "    print(num)"
   ]
  },
  {
   "cell_type": "code",
   "execution_count": null,
   "metadata": {},
   "outputs": [],
   "source": [
    "# While Loop:The while loop repeatedly executes a block of code as long as a given condition is True. \n",
    "# Be cautious, though, to avoid infinite loops by ensuring that the condition eventually becomes False.\n",
    "count = 0\n",
    "while count < 5:\n",
    "    print(count)\n",
    "    count += 1 # This is the same as count = count + 1, what if this was missing?"
   ]
  },
  {
   "cell_type": "markdown",
   "metadata": {},
   "source": [
    "Control Structures:\n",
    "Control structures are used to determine the flow of a program based on conditions. They allow you to make decisions and execute different code blocks accordingly."
   ]
  },
  {
   "cell_type": "code",
   "execution_count": null,
   "metadata": {},
   "outputs": [],
   "source": [
    "# if Statement:\n",
    "#The if statement allows you to execute a block of code only if a given condition is True.\n",
    "age = 18\n",
    "if age >= 18:\n",
    "    print(\"You are an adult.\")"
   ]
  },
  {
   "cell_type": "code",
   "execution_count": null,
   "metadata": {},
   "outputs": [],
   "source": [
    "# if-else Statement:\n",
    "# The if-else statement lets you execute one block of code if a condition is True and another block if it's False.\n",
    "temperature = 25\n",
    "if temperature > 30:\n",
    "    print(\"It's hot outside!\")\n",
    "else:\n",
    "    print(\"It's a pleasant day.\")"
   ]
  },
  {
   "cell_type": "code",
   "execution_count": null,
   "metadata": {},
   "outputs": [],
   "source": [
    "# if-elif-else Statement:\n",
    "# The if-elif-else statement allows you to handle multiple conditions in a sequence.\n",
    "score = 85\n",
    "if score >= 90:\n",
    "    print(\"A\")\n",
    "elif score >= 80:\n",
    "    print(\"B\")\n",
    "elif score >= 70:\n",
    "    print(\"C\")\n",
    "else:\n",
    "    print(\"D\")"
   ]
  },
  {
   "cell_type": "code",
   "execution_count": null,
   "metadata": {},
   "outputs": [],
   "source": [
    "# Nested Control Structures:\n",
    "# You can nest control structures within each other to create more complex logic.\n",
    "age = 25\n",
    "if age >= 11:\n",
    "    if age < 20:\n",
    "        print(\"Welcome to your teens!\")\n",
    "    else:\n",
    "        print(\"You're a full-fledged adult!\")"
   ]
  },
  {
   "cell_type": "markdown",
   "metadata": {},
   "source": [
    "String Indexing:\n",
    "\n",
    "String indexing allows you to access individual characters within a string by their position. Python uses 0-based indexing, meaning the first character is at index 0, the second character is at index 1, and so on. Here's some code to demonstrate string indexing:"
   ]
  },
  {
   "cell_type": "code",
   "execution_count": null,
   "metadata": {},
   "outputs": [],
   "source": [
    "# Define a string\n",
    "my_string = \"Hello, Python!\"\n",
    "\n",
    "# Access characters using positive indexes\n",
    "print(\"Character at index 0:\", my_string[0])     # Output: H\n",
    "print(\"Character at index 7:\", my_string[7])     # Output: P\n",
    "\n",
    "# Access characters using negative indexes (counting from the end)\n",
    "print(\"Character at index -1:\", my_string[-1])   # Output: !\n",
    "print(\"Character at index -8:\", my_string[-8])   # Output: o\n",
    "\n",
    "# Slicing: Get a substring using a range of indexes\n",
    "substring = my_string[7:13]  # Characters from index 7 to 12\n",
    "print(\"Substring:\", substring)  # Output: Python\n",
    "\n",
    "# Omitting start or end index assumes the beginning or end of the string\n",
    "start = my_string[:5]     # Characters from the beginning to index 4\n",
    "end = my_string[7:]       # Characters from index 7 to the end\n",
    "print(\"Start:\", start)    # Output: Hello\n",
    "print(\"End:\", end)        # Output: Python!\n",
    "\n",
    "# Using step value to skip characters\n",
    "step_example = my_string[::2]  # Every second character\n",
    "print(\"Step Example:\", step_example)  # Output: Hlo yhn\n",
    "\n",
    "# Reverse a string using step value\n",
    "reverse_string = my_string[::-1]\n",
    "print(\"Reverse String:\", reverse_string)  # Output: !nohtyP ,olleH"
   ]
  },
  {
   "cell_type": "code",
   "execution_count": null,
   "metadata": {},
   "outputs": [],
   "source": [
    "# Lists and Lists Manipulation\n",
    "fruits = [\"apple\", \"banana\", \"orange\"]\n",
    "print(\"Fruits:\", fruits)\n",
    "\n",
    "fruits.append(\"grape\")\n",
    "print(\"After adding grape:\", fruits)\n",
    "\n",
    "fruits.remove(\"banana\")\n",
    "print(\"After removing banana:\", fruits)"
   ]
  },
  {
   "cell_type": "code",
   "execution_count": null,
   "metadata": {},
   "outputs": [],
   "source": [
    "# Introduction to Modules\n",
    "import math\n",
    "\n",
    "radius = 5\n",
    "area = math.pi * radius ** 2\n",
    "print(\"Area of the circle:\", area)"
   ]
  },
  {
   "cell_type": "code",
   "execution_count": null,
   "metadata": {},
   "outputs": [],
   "source": [
    "# Building a Simple Calculator\n",
    "def add(x, y):\n",
    "    return x + y\n",
    "\n",
    "def subtract(x, y):\n",
    "    return x - y\n",
    "\n",
    "def multiply(x, y):\n",
    "    return x * y\n",
    "\n",
    "def divide(x, y):\n",
    "    return x / y\n",
    "\n",
    "num1 = 10\n",
    "num2 = 5\n",
    "\n",
    "print(\"Sum:\", add(num1, num2))\n",
    "print(\"Difference:\", subtract(num1, num2))\n",
    "print(\"Product:\", multiply(num1, num2))\n",
    "print(\"Quotient:\", divide(num1, num2))"
   ]
  }
 ],
 "metadata": {
  "kernelspec": {
   "display_name": "Python 3",
   "language": "python",
   "name": "python3"
  },
  "language_info": {
   "codemirror_mode": {
    "name": "ipython",
    "version": 3
   },
   "file_extension": ".py",
   "mimetype": "text/x-python",
   "name": "python",
   "nbconvert_exporter": "python",
   "pygments_lexer": "ipython3",
   "version": "3.11.2"
  },
  "orig_nbformat": 4
 },
 "nbformat": 4,
 "nbformat_minor": 2
}
