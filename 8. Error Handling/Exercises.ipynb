{
 "cells": [
  {
   "cell_type": "markdown",
   "metadata": {},
   "source": [
    "Exercise 1: Basic Try-Except Block\n",
    "Write a program that takes two numbers as input and divides the first number by the second. Use a try-except block to handle the ZeroDivisionError if the second number is zero."
   ]
  },
  {
   "cell_type": "markdown",
   "metadata": {},
   "source": [
    "Exercise 2: Multiple Exceptions\n",
    "Write a program that:\n",
    "\n",
    "Prompts the user for two numbers.\n",
    "Uses a try-except block to catch both ZeroDivisionError and ValueError (in case the input is not a number)."
   ]
  },
  {
   "cell_type": "markdown",
   "metadata": {},
   "source": [
    "Exercise 3: Else Block in Try-Except\n",
    "Write a program that:\n",
    "\n",
    "Asks the user for a number.\n",
    "Uses a try-except-else block to catch any ValueError if the input is not a valid number.\n",
    "If the input is valid, print the square of the number in the else block."
   ]
  },
  {
   "cell_type": "markdown",
   "metadata": {},
   "source": [
    "Exercise 4: Finally Block\n",
    "Modify Exercise 3 by adding a finally block that always prints \"End of Program\" after executing the try, except, and else blocks."
   ]
  },
  {
   "cell_type": "markdown",
   "metadata": {},
   "source": [
    "Exercise 5: Raising an Exception\n",
    "Write a program that:\n",
    "\n",
    "Asks the user to input their age.\n",
    "Raises a ValueError if the age is less than 0 or greater than 120.\n",
    "Use try-except to handle the exception and print a message."
   ]
  },
  {
   "cell_type": "markdown",
   "metadata": {},
   "source": [
    "Exercise 6: Custom Exception\n",
    "Create a custom exception class called NegativeNumberError. Write a function that raises this exception if the user inputs a negative number."
   ]
  },
  {
   "cell_type": "markdown",
   "metadata": {},
   "source": [
    "Exercise 7: Nested Try-Except Blocks\n",
    "Write a program that:\n",
    "\n",
    "Asks the user for two numbers and divides them.\n",
    "Uses a nested try-except block to catch ValueError and ZeroDivisionError at different levels."
   ]
  },
  {
   "cell_type": "markdown",
   "metadata": {},
   "source": [
    "Exercise 8: Re-Raising an Exception\n",
    "Write a program that:\n",
    "\n",
    "Asks the user to input a string.\n",
    "Uses try-except to catch the exception if the string length is less than 3, but re-raises the exception for further handling."
   ]
  },
  {
   "cell_type": "markdown",
   "metadata": {},
   "source": [
    "Exercise 9: Custom Exception with Attributes\n",
    "Create a custom exception class InvalidGradeError that takes a grade value as an argument. Write a function that raises this exception if the grade is not between 0 and 100."
   ]
  },
  {
   "cell_type": "markdown",
   "metadata": {},
   "source": [
    "Exercise 10: Using Assert\n",
    "Write a program that uses an assert statement to check if a number input by the user is positive."
   ]
  }
 ],
 "metadata": {
  "language_info": {
   "name": "python"
  }
 },
 "nbformat": 4,
 "nbformat_minor": 2
}
