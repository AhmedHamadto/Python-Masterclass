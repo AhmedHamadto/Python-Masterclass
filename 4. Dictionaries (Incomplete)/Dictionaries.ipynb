{
 "cells": [
  {
   "cell_type": "code",
   "execution_count": 1,
   "metadata": {},
   "outputs": [],
   "source": [
    "dict = {}"
   ]
  },
  {
   "cell_type": "code",
   "execution_count": 6,
   "metadata": {},
   "outputs": [
    {
     "name": "stdout",
     "output_type": "stream",
     "text": [
      "dict_keys(['A', 'B', 'C'])\n",
      "dict_values([19, 20, 21])\n",
      "dict_items([('A', 19), ('B', 20), ('C', 21)])\n",
      "A 19\n",
      "B 20\n",
      "C 21\n"
     ]
    }
   ],
   "source": [
    "students = {\"A\" : 19, \"B\" : 20, \"C\" : 21}\n",
    "\n",
    "# to get the keys of the dictionary\n",
    "print(students.keys())\n",
    "\n",
    "# to get the values of the dictionary\n",
    "print(students.values())\n",
    "\n",
    "# to get both keys and values of the dictionary\n",
    "print(students.items())\n",
    "\n",
    "# to get the key value pair of the dictionary\n",
    "for key, value in students.items():\n",
    "    print(key, value)"
   ]
  }
 ],
 "metadata": {
  "kernelspec": {
   "display_name": "Python 3",
   "language": "python",
   "name": "python3"
  },
  "language_info": {
   "codemirror_mode": {
    "name": "ipython",
    "version": 3
   },
   "file_extension": ".py",
   "mimetype": "text/x-python",
   "name": "python",
   "nbconvert_exporter": "python",
   "pygments_lexer": "ipython3",
   "version": "3.11.2"
  },
  "orig_nbformat": 4
 },
 "nbformat": 4,
 "nbformat_minor": 2
}
