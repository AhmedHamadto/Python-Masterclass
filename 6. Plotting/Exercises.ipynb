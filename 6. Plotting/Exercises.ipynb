{
 "cells": [
  {
   "cell_type": "markdown",
   "metadata": {},
   "source": [
    "Exercise 1: Simple Line Plot\n",
    "Create a simple line plot for the following data:\n",
    "\n",
    "x = [0, 1, 2, 3, 4, 5]\n",
    "y = [0, 2, 4, 6, 8, 10]\n",
    "Add appropriate labels for the x and y axes, and a title."
   ]
  },
  {
   "cell_type": "markdown",
   "metadata": {},
   "source": [
    "Exercise 2: Customised Line Plot\n",
    "Using the same x and y data from Exercise 1, customise the plot by:\n",
    "\n",
    "Changing the line colour to red.\n",
    "Adding markers for each point (use 'o').\n",
    "Changing the line style to dashed (--)."
   ]
  },
  {
   "cell_type": "markdown",
   "metadata": {},
   "source": [
    "Exercise 3: Multiple Lines\n",
    "Plot two lines on the same graph:\n",
    "\n",
    "y1 = [1, 4, 9, 16, 25]\n",
    "y2 = [1, 8, 27, 64, 125]\n",
    "Add a legend to differentiate the two lines."
   ]
  },
  {
   "cell_type": "markdown",
   "metadata": {},
   "source": [
    "Exercise 4: Scatter Plot\n",
    "Create a scatter plot using the following data:\n",
    "\n",
    "x = [5, 7, 8, 7, 2, 17, 2, 9, 4, 11]\n",
    "y = [99, 86, 87, 88, 100, 86, 103, 87, 94, 78]\n",
    "Customise the scatter plot by setting the marker colour to green and size to 100."
   ]
  },
  {
   "cell_type": "markdown",
   "metadata": {},
   "source": [
    "Exercise 5: Bar Plot\n",
    "Create a vertical bar plot for the following data:\n",
    "\n",
    "Categories: [\"Apples\", \"Bananas\", \"Cherries\", \"Dates\"]\n",
    "Values: [25, 40, 35, 15]\n",
    "Customise the bar plot by setting the bar colour to blue."
   ]
  },
  {
   "cell_type": "markdown",
   "metadata": {},
   "source": [
    "Exercise 6: Histogram\n",
    "Create a histogram using random data generated from a normal distribution with:\n",
    "\n",
    "Mean: 0\n",
    "Standard deviation: 1\n",
    "Data size: 1000\n",
    "Use 30 bins for the histogram."
   ]
  },
  {
   "cell_type": "markdown",
   "metadata": {},
   "source": [
    "Exercise 7: Pie Chart\n",
    "Create a pie chart for the following data:\n",
    "\n",
    "Labels: [\"Python\", \"Java\", \"C++\", \"Ruby\"]\n",
    "Sizes: [40, 30, 20, 10]\n",
    "Explode the largest slice (Python) by 0.1."
   ]
  },
  {
   "cell_type": "markdown",
   "metadata": {},
   "source": [
    "Exercise 8: Subplots\n",
    "Create two subplots:\n",
    "\n",
    "In the first subplot, plot y = x^2 using x = [0, 1, 2, 3, 4, 5].\n",
    "In the second subplot, create a bar plot using the data from Exercise 5."
   ]
  },
  {
   "cell_type": "markdown",
   "metadata": {},
   "source": [
    "Exercise 9: Saving a Plot\n",
    "Plot a sine wave using the following data and save the plot as sine_wave.png:\n",
    "\n",
    "x = np.linspace(0, 2 * np.pi, 100)\n",
    "y = np.sin(x)"
   ]
  }
 ],
 "metadata": {
  "language_info": {
   "name": "python"
  }
 },
 "nbformat": 4,
 "nbformat_minor": 2
}
