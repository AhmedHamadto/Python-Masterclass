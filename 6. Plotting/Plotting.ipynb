{
 "cells": [
  {
   "cell_type": "code",
   "execution_count": 1,
   "metadata": {},
   "outputs": [],
   "source": [
    "# Basics of Matplotlib\n",
    "\n",
    "# Introduction\n",
    "# Matplotlib is a powerful Python library for creating static, animated, and interactive visualisations.\n",
    "# In this notebook, we'll cover the basics of creating plots using Matplotlib.\n",
    "\n",
    "# 1. Importing Matplotlib\n",
    "\n",
    "# The main module we need is `pyplot`, which is often imported as `plt` for convenience.\n",
    "import matplotlib.pyplot as plt\n",
    "\n"
   ]
  },
  {
   "cell_type": "code",
   "execution_count": null,
   "metadata": {},
   "outputs": [],
   "source": [
    "# 2. Creating a Basic Line Plot\n",
    "\n",
    "# Matplotlib uses a functional-style API, which allows you to quickly create plots.\n",
    "# We'll start with a simple line plot.\n",
    "\n",
    "# Example: Plotting y = x^2\n",
    "x = [0, 1, 2, 3, 4, 5]\n",
    "y = [0, 1, 4, 9, 16, 25]\n",
    "\n",
    "plt.plot(x, y)\n",
    "plt.title(\"Basic Line Plot\")\n",
    "plt.xlabel(\"x-axis\")\n",
    "plt.ylabel(\"y-axis\")\n",
    "plt.show()\n"
   ]
  },
  {
   "cell_type": "code",
   "execution_count": null,
   "metadata": {},
   "outputs": [],
   "source": [
    "# 3. Customising the Plot\n",
    "\n",
    "# You can customise your plot by changing line styles, colours, markers, and more.\n",
    "\n",
    "# Example: Customising a line plot with different styles\n",
    "plt.plot(x, y, color=\"green\", linestyle=\"--\", marker=\"o\", label=\"y = x^2\")\n",
    "plt.title(\"Customised Line Plot\")\n",
    "plt.xlabel(\"x-axis\")\n",
    "plt.ylabel(\"y-axis\")\n",
    "plt.legend()  # Adds a legend\n",
    "plt.grid(True)  # Adds a grid\n",
    "plt.show()"
   ]
  },
  {
   "cell_type": "code",
   "execution_count": null,
   "metadata": {},
   "outputs": [],
   "source": [
    "# 4. Plotting Multiple Lines\n",
    "\n",
    "# You can plot multiple lines on the same figure by calling `plt.plot()` multiple times before `plt.show()`.\n",
    "\n",
    "# Example: Plotting multiple lines\n",
    "y2 = [0, 2, 8, 18, 32, 50]\n",
    "plt.plot(x, y, label=\"y = x^2\")\n",
    "plt.plot(x, y2, label=\"y = 2x^2\", linestyle=\"--\")\n",
    "plt.title(\"Multiple Lines Plot\")\n",
    "plt.xlabel(\"x-axis\")\n",
    "plt.ylabel(\"y-axis\")\n",
    "plt.legend()\n",
    "plt.show()"
   ]
  },
  {
   "cell_type": "code",
   "execution_count": null,
   "metadata": {},
   "outputs": [],
   "source": [
    "# 5. Scatter Plot\n",
    "\n",
    "# Scatter plots are used to show the relationship between two sets of data.\n",
    "# You can use `plt.scatter()` for creating scatter plots.\n",
    "\n",
    "# Example: Scatter plot\n",
    "plt.scatter(x, y, color=\"blue\", label=\"y = x^2\")\n",
    "plt.scatter(x, y2, color=\"red\", label=\"y = 2x^2\")\n",
    "plt.title(\"Scatter Plot Example\")\n",
    "plt.xlabel(\"x-axis\")\n",
    "plt.ylabel(\"y-axis\")\n",
    "plt.legend()\n",
    "plt.show()\n"
   ]
  },
  {
   "cell_type": "code",
   "execution_count": null,
   "metadata": {},
   "outputs": [],
   "source": [
    "# 6. Bar Plot\n",
    "\n",
    "# Bar plots are used for categorical data visualisation.\n",
    "# You can create vertical or horizontal bar plots with `plt.bar()`.\n",
    "\n",
    "# Example: Bar plot\n",
    "categories = [\"A\", \"B\", \"C\", \"D\"]\n",
    "values = [3, 7, 5, 8]\n",
    "\n",
    "plt.bar(categories, values, color=\"purple\")\n",
    "plt.title(\"Bar Plot Example\")\n",
    "plt.xlabel(\"Categories\")\n",
    "plt.ylabel(\"Values\")\n",
    "plt.show()"
   ]
  },
  {
   "cell_type": "code",
   "execution_count": null,
   "metadata": {},
   "outputs": [],
   "source": [
    "# 7. Histogram\n",
    "\n",
    "# Histograms are used to show the distribution of data.\n",
    "# You can use `plt.hist()` to create a histogram.\n",
    "\n",
    "# Example: Histogram\n",
    "import numpy as np\n",
    "\n",
    "data = np.random.randn(1000)  # Generate random data\n",
    "plt.hist(data, bins=20, color=\"orange\")\n",
    "plt.title(\"Histogram Example\")\n",
    "plt.xlabel(\"Value\")\n",
    "plt.ylabel(\"Frequency\")\n",
    "plt.show()\n"
   ]
  },
  {
   "cell_type": "code",
   "execution_count": null,
   "metadata": {},
   "outputs": [],
   "source": [
    "# 8. Pie Chart\n",
    "\n",
    "# Pie charts are useful for displaying proportions.\n",
    "# You can use `plt.pie()` to create pie charts.\n",
    "\n",
    "# Example: Pie chart\n",
    "labels = [\"Apples\", \"Bananas\", \"Cherries\", \"Dates\"]\n",
    "sizes = [15, 30, 45, 10]\n",
    "colors = [\"gold\", \"yellowgreen\", \"lightcoral\", \"lightskyblue\"]\n",
    "explode = (0, 0.1, 0, 0)  # \"Explode\" the 2nd slice\n",
    "\n",
    "plt.pie(sizes, explode=explode, labels=labels, colors=colors, autopct=\"%1.1f%%\", shadow=True, startangle=140)\n",
    "plt.title(\"Pie Chart Example\")\n",
    "plt.show()"
   ]
  },
  {
   "cell_type": "code",
   "execution_count": null,
   "metadata": {},
   "outputs": [],
   "source": [
    "# 9. Subplots\n",
    "\n",
    "# You can create multiple plots in a single figure using `plt.subplot()`.\n",
    "# This is useful for comparing multiple plots side by side.\n",
    "\n",
    "# Example: Creating multiple subplots\n",
    "plt.subplot(1, 2, 1)  # 1 row, 2 columns, plot 1\n",
    "plt.plot(x, y, color=\"blue\")\n",
    "plt.title(\"Plot 1\")\n",
    "\n",
    "plt.subplot(1, 2, 2)  # 1 row, 2 columns, plot 2\n",
    "plt.bar(categories, values, color=\"green\")\n",
    "plt.title(\"Plot 2\")\n",
    "\n",
    "plt.tight_layout()  # Adjust layout to prevent overlap\n",
    "plt.show()"
   ]
  },
  {
   "cell_type": "code",
   "execution_count": null,
   "metadata": {},
   "outputs": [],
   "source": [
    "# 10. Saving Figures\n",
    "\n",
    "# You can save your plots as image files (e.g., PNG, PDF) using `plt.savefig()`.\n",
    "\n",
    "# Example: Saving a figure\n",
    "plt.plot(x, y, color=\"red\")\n",
    "plt.title(\"Saved Plot Example\")\n",
    "plt.savefig(\"my_plot.png\")  # Saves the plot as a PNG file\n",
    "plt.show()\n"
   ]
  },
  {
   "cell_type": "code",
   "execution_count": 11,
   "metadata": {},
   "outputs": [],
   "source": [
    "# 11. Conclusion\n",
    "\n",
    "# Matplotlib offers extensive customisation and allows you to create a variety of plots.\n",
    "# This notebook covers the basics, but there's much more to explore, including 3D plotting and animations.\n",
    "# The official Matplotlib documentation is a great resource for deeper learning: https://matplotlib.org/\n"
   ]
  }
 ],
 "metadata": {
  "kernelspec": {
   "display_name": "Python 3",
   "language": "python",
   "name": "python3"
  },
  "language_info": {
   "codemirror_mode": {
    "name": "ipython",
    "version": 3
   },
   "file_extension": ".py",
   "mimetype": "text/x-python",
   "name": "python",
   "nbconvert_exporter": "python",
   "pygments_lexer": "ipython3",
   "version": "3.11.2"
  }
 },
 "nbformat": 4,
 "nbformat_minor": 2
}
