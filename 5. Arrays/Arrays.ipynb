{
 "cells": [
  {
   "cell_type": "markdown",
   "metadata": {},
   "source": [
    "#\n",
    "# Arrays.ipynb - This is a notebook to explain how arrays work in Python\n",
    "#\n",
    "# Author: Ahmed Abdelmuniem Abdalla Mohammed\n",
    "#\n",
    "# Last Modified: 2024-07-26\n",
    "# "
   ]
  },
  {
   "cell_type": "code",
   "execution_count": null,
   "metadata": {},
   "outputs": [],
   "source": [
    "import numpy as np"
   ]
  },
  {
   "cell_type": "code",
   "execution_count": null,
   "metadata": {},
   "outputs": [],
   "source": [
    "array = np.array([9,8,7,6,5])\n",
    "print (array)"
   ]
  },
  {
   "cell_type": "code",
   "execution_count": null,
   "metadata": {},
   "outputs": [],
   "source": [
    "print(array[2])"
   ]
  },
  {
   "cell_type": "code",
   "execution_count": null,
   "metadata": {},
   "outputs": [],
   "source": [
    "array2d = np.array([[1,2,3,4,5],[5,4,3,2,1]])\n",
    "print(array2d)"
   ]
  },
  {
   "cell_type": "code",
   "execution_count": null,
   "metadata": {},
   "outputs": [],
   "source": [
    "# Accessing the 3rd element of the first array\n",
    "print(array2d[0,2])"
   ]
  },
  {
   "cell_type": "code",
   "execution_count": null,
   "metadata": {},
   "outputs": [],
   "source": [
    "array3d = np.array([[2,4,6,8],[1,3,5,7],[10,20,30,40]])\n",
    "print(array3d)"
   ]
  },
  {
   "cell_type": "code",
   "execution_count": null,
   "metadata": {},
   "outputs": [],
   "source": [
    "print(array3d[1,2])"
   ]
  },
  {
   "cell_type": "code",
   "execution_count": null,
   "metadata": {},
   "outputs": [],
   "source": [
    "array5d = np.array([[2,4,6,8],[1,3,5,7],[20,40,60,80],[10,30,50,70],[100,90,80,70]])\n",
    "print(array5d)\n"
   ]
  },
  {
   "cell_type": "code",
   "execution_count": null,
   "metadata": {},
   "outputs": [],
   "source": [
    "print(f\"This is the number ten:{array5d[3,0]}, followed by twenty: {array5d[2,0]} followed by thirty: {array5d[3,1]}\")"
   ]
  },
  {
   "cell_type": "code",
   "execution_count": null,
   "metadata": {},
   "outputs": [],
   "source": [
    "print(\"This is the number ten:\",array5d[3,0], \"followed by twenty:\", array5d[2,0])"
   ]
  },
  {
   "cell_type": "code",
   "execution_count": 16,
   "metadata": {},
   "outputs": [],
   "source": [
    "blackknight = \"It's just a flesh wound.\""
   ]
  },
  {
   "cell_type": "code",
   "execution_count": 18,
   "metadata": {},
   "outputs": [
    {
     "name": "stdout",
     "output_type": "stream",
     "text": [
      "f\n",
      "l\n",
      "e\n",
      "s\n",
      "h\n",
      " \n",
      "w\n",
      "o\n",
      "u\n",
      "n\n",
      "d\n",
      ".\n"
     ]
    }
   ],
   "source": [
    "for index in range(12, len(blackknight)):\n",
    "    print(blackknight[index])"
   ]
  },
  {
   "cell_type": "code",
   "execution_count": 19,
   "metadata": {},
   "outputs": [
    {
     "name": "stdout",
     "output_type": "stream",
     "text": [
      ".\n",
      "d\n",
      "n\n",
      "u\n",
      "o\n",
      "w\n",
      " \n",
      "h\n",
      "s\n",
      "e\n",
      "l\n",
      "f\n",
      " \n",
      "a\n",
      " \n",
      "t\n",
      "s\n",
      "u\n",
      "j\n",
      " \n",
      "s\n",
      "'\n",
      "t\n",
      "I\n"
     ]
    }
   ],
   "source": [
    "for index in range(len(blackknight)-1, -1, -1):\n",
    "    print(blackknight[index])"
   ]
  },
  {
   "cell_type": "code",
   "execution_count": 13,
   "metadata": {},
   "outputs": [
    {
     "name": "stdout",
     "output_type": "stream",
     "text": [
      "It'\n"
     ]
    }
   ],
   "source": [
    "print(blackknight[24])"
   ]
  },
  {
   "cell_type": "code",
   "execution_count": 6,
   "metadata": {},
   "outputs": [
    {
     "name": "stdout",
     "output_type": "stream",
     "text": [
      "range(0, 24)\n"
     ]
    }
   ],
   "source": [
    "a = range(len(blackknight))\n",
    "print(a)"
   ]
  },
  {
   "cell_type": "code",
   "execution_count": 4,
   "metadata": {},
   "outputs": [
    {
     "name": "stdout",
     "output_type": "stream",
     "text": [
      "24\n"
     ]
    }
   ],
   "source": [
    "b = len(blackknight)\n",
    "print(b)"
   ]
  },
  {
   "cell_type": "code",
   "execution_count": 5,
   "metadata": {},
   "outputs": [
    {
     "name": "stdout",
     "output_type": "stream",
     "text": [
      "It's just a flesh wound.\n"
     ]
    }
   ],
   "source": [
    "print(blackknight)"
   ]
  },
  {
   "cell_type": "code",
   "execution_count": 25,
   "metadata": {},
   "outputs": [
    {
     "name": "stdout",
     "output_type": "stream",
     "text": [
      "o*l*l*e*H*"
     ]
    }
   ],
   "source": [
    "string = input(\"Please enter a string\")\n",
    "\n",
    "for index in range(len(string)-1,-1, -1):\n",
    "    print(string[index], end = \"*\")"
   ]
  },
  {
   "cell_type": "code",
   "execution_count": null,
   "metadata": {},
   "outputs": [],
   "source": []
  }
 ],
 "metadata": {
  "kernelspec": {
   "display_name": "Python 3",
   "language": "python",
   "name": "python3"
  },
  "language_info": {
   "codemirror_mode": {
    "name": "ipython",
    "version": 3
   },
   "file_extension": ".py",
   "mimetype": "text/x-python",
   "name": "python",
   "nbconvert_exporter": "python",
   "pygments_lexer": "ipython3",
   "version": "3.11.2"
  },
  "orig_nbformat": 4
 },
 "nbformat": 4,
 "nbformat_minor": 2
}
