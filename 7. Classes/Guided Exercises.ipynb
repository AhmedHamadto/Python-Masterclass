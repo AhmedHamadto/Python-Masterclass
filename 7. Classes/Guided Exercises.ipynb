{
 "cells": [
  {
   "cell_type": "markdown",
   "metadata": {},
   "source": [
    "**Exercise 1: Classes and Objects**\n",
    "\n",
    "1. Define a class called `Person` with attributes `name` and `age`. Create an instance of the class and display the person's information using a method.\n",
    "2. Create a class `Rectangle` with attributes `width` and `height`. Add a method to calculate the area of the rectangle.\n",
    "\n",
    "**Exercise 2: Inheritance and Polymorphism**\n",
    "\n",
    "1. Create a base class `Vehicle` with attributes `make` and `model`. Derive classes `Car` and `Bike` from it. Add methods to display information about each vehicle type.\n",
    "2. Implement a class `Shape` with a method `area()`. Derive classes `Circle` and `Rectangle` from it. Override the `area()` method in the derived classes.\n",
    "3. Create a class `Animal` with a method `speak()`. Derive classes `Dog` and `Cat` from it, each with their own `speak()` method. Create a list of animals and make them speak using a loop.\n",
    "\n",
    "**Exercise 3: Encapsulation and Access Modifiers**\n",
    "\n",
    "1. Create a class `BankAccount` with attributes `account_number` and `balance`. Add methods to deposit and withdraw money, as well as to display the balance.\n",
    "2. Implement a class `Employee` with attributes `name` and `salary`. Use encapsulation to ensure that the salary is never set to a negative value.\n",
    "\n",
    "**Exercise 4: Multiple Inheritance and Method Overriding**\n",
    "\n",
    "1. Create classes `A`, `B`, and `C`. Class `A` has a method `show()` that prints \"A\". Classes `B` and `C` inherit from `A` and override the `show()` method to print \"B\" and \"C\" respectively. Create an instance of `C` and call its `show()` method.\n",
    "2. Implement a class `Sports` with a method `type()`. Derive classes `Football` and `Basketball` from it. Override the `type()` method in the derived classes to print the respective sport.\n",
    "\n",
    "**Exercise 5: Polymorphism in Practice**\n",
    "\n",
    "1. Create a class `Shape` with methods `area()` and `perimeter()`. Derive classes `Circle`, `Square`, and `Triangle` from it. Implement the methods in each subclass and calculate their respective areas and perimeters.\n",
    "2. Build a class hierarchy for different types of vehicles. Implement a method `fuel_efficiency()` that returns the fuel efficiency in miles per gallon (MPG). Create instances of different vehicles and call the `fuel_efficiency()` method.\n",
    "\n",
    "These exercises cover a range of concepts including classes, inheritance, encapsulation, access modifiers, method overriding, and polymorphism. Working through these exercises will help you solidify your understanding and gain hands-on experience with object-oriented programming in Python. Remember, practice is key to mastering these concepts!"
   ]
  },
  {
   "cell_type": "code",
   "execution_count": null,
   "metadata": {},
   "outputs": [],
   "source": []
  }
 ],
 "metadata": {
  "language_info": {
   "name": "python"
  },
  "orig_nbformat": 4
 },
 "nbformat": 4,
 "nbformat_minor": 2
}
