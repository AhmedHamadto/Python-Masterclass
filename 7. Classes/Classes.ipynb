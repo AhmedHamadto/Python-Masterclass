{
 "cells": [
  {
   "cell_type": "markdown",
   "metadata": {},
   "source": [
    "#\n",
    "# Classes.ipynb - This is a notebook to explain how classes work in Python\n",
    "#\n",
    "# Author: Ahmed Abdelmuniem Abdalla Mohammed\n",
    "#\n",
    "# Last Modified: 2024-07-26\n",
    "# "
   ]
  },
  {
   "cell_type": "markdown",
   "metadata": {},
   "source": [
    "Session 1: Introduction to classes\n",
    "==================================\n",
    "In this code, we define a simple class Dog with a method bark. We then create an instance of the class and call the bark method on the object."
   ]
  },
  {
   "cell_type": "code",
   "execution_count": null,
   "metadata": {},
   "outputs": [],
   "source": [
    "# Defining a simple class\n",
    "class Dog:\n",
    "    def bark(self):\n",
    "        return(\"Woof!\")\n",
    "\n",
    "# Creating an instance of the class\n",
    "my_dog = Dog()\n",
    "print(f\"this is the type of the variable my_dog: {type(my_dog)}\")\n",
    "# Calling the method on the object\n",
    "sound = my_dog.bark()\n",
    "\n",
    "print(f\"This is the sound a dog makes: {sound}\")\n"
   ]
  },
  {
   "cell_type": "code",
   "execution_count": null,
   "metadata": {},
   "outputs": [],
   "source": [
    "name = \"Alice\"\n",
    "print(f\"This is the variable {name} and this is its type{type(name)}\")"
   ]
  },
  {
   "cell_type": "markdown",
   "metadata": {},
   "source": [
    "Session 2: Creating and using objects\n",
    "====================================\n",
    "This code demonstrates creating a class Student with a constructor (__init__) and a method display_info. We create an instance of the class with a name and age, then call the method to display student information."
   ]
  },
  {
   "cell_type": "code",
   "execution_count": null,
   "metadata": {},
   "outputs": [],
   "source": [
    "class Student:\n",
    "    def __init__(self, name, age):\n",
    "        self.name = name\n",
    "        self.age = age\n",
    "\n",
    "    def display_info(self):\n",
    "        print(f\"Name: {self.name}, Age: {self.age}\")\n",
    "\n",
    "student1 = Student(\"Alice\", 20)\n",
    "student1.display_info()\n"
   ]
  },
  {
   "cell_type": "markdown",
   "metadata": {},
   "source": [
    "Session 3: Constructors and Destructors\n",
    "========================================\n",
    "Here, we create a class Car with a constructor and a destructor (__del__). When an instance of the class is deleted, the destructor is called."
   ]
  },
  {
   "cell_type": "code",
   "execution_count": 14,
   "metadata": {},
   "outputs": [
    {
     "name": "stdout",
     "output_type": "stream",
     "text": [
      "This car is of make Toyota and of model Corolla\n",
      "The Toyota Corolla is being destroyed.\n"
     ]
    }
   ],
   "source": [
    "class Car:\n",
    "    def __init__(self, make, model):\n",
    "        self.make = make\n",
    "        self.model = model\n",
    "\n",
    "    def __del__(self):\n",
    "        print(f\"The {self.make} {self.model} is being destroyed.\")\n",
    "\n",
    "    def __str__(self):\n",
    "        return f\"This car is of make {self.make} and of model {self.model}\"\n",
    "    \n",
    "car1 = Car(\"Toyota\", \"Corolla\")\n",
    "print(car1)\n",
    "del car1\n"
   ]
  },
  {
   "cell_type": "markdown",
   "metadata": {},
   "source": [
    "Session 4: Class variables and methods\n",
    "=======================================\n",
    "In this code, we define a class Circle with a class variable pi and a method area. We create an instance of the class and calculate the area using the class variable."
   ]
  },
  {
   "cell_type": "code",
   "execution_count": 20,
   "metadata": {},
   "outputs": [
    {
     "name": "stdout",
     "output_type": "stream",
     "text": [
      "This is the radius of the circle1 3.14159\n",
      "This is the radius of the circle2 3.14159\n",
      "This is the radius of the circle1 3.14159\n",
      "This is the radius of the circle2 3.14159\n",
      "This is the radius of the circle3 4\n"
     ]
    }
   ],
   "source": [
    "class Circle:\n",
    "    pi = 3.14159  # Class variable\n",
    "\n",
    "    def __init__(self, radius):\n",
    "        self.radius = radius\n",
    "\n",
    "    def area(self):\n",
    "        return Circle.pi * self.radius ** 2\n",
    "    \n",
    "    def area2(self):\n",
    "        return Circle.pi * self.radius ** 3\n",
    "\n",
    "circle1 = Circle(5)\n",
    "print(f\"This is the radius of the circle1 {circle1.pi}\")\n",
    "cirlce2 = Circle(10)\n",
    "\n",
    "print(f\"This is the radius of the circle2 {cirlce2.pi}\")\n",
    "\n",
    "circle3 = Circle(15)\n",
    "circle3.pi = 4\n",
    "\n",
    "print(f\"This is the radius of the circle1 {circle1.pi}\")\n",
    "print(f\"This is the radius of the circle2 {cirlce2.pi}\")\n",
    "print(f\"This is the radius of the circle3 {circle3.pi}\")\n",
    "# print(\"Area:\", circle1.area())\n",
    "# del circle1\n",
    "# circle2 = Circle(7)\n",
    "# print(\"Area:\", circle2.area())\n",
    "#! Investigate the class variable"
   ]
  },
  {
   "cell_type": "markdown",
   "metadata": {},
   "source": [
    "Session 5: Inheritance and Polymorphism\n",
    "=======================================\n",
    "This code demonstrates inheritance and polymorphism. We create base class Animal with a method speak, then derived classes Dog and Cat that override the speak method. We use a function to make animals speak, demonstrating polymorphism."
   ]
  },
  {
   "cell_type": "code",
   "execution_count": 25,
   "metadata": {},
   "outputs": [
    {
     "name": "stdout",
     "output_type": "stream",
     "text": [
      "Animal sound\n",
      "Woof!\n",
      "Meow!\n",
      "1\n",
      "1\n",
      "1\n"
     ]
    }
   ],
   "source": [
    "class Animal:\n",
    "    def __init__(self):\n",
    "        self.tail = 1\n",
    "    def speak(self):\n",
    "        print(\"Animal sound\")\n",
    "\n",
    "class Dog(Animal):\n",
    "    def speak(self):\n",
    "        print(\"Woof!\")\n",
    "\n",
    "class Cat(Animal):\n",
    "    def speak(self):\n",
    "        print(\"Meow!\")\n",
    "\n",
    "def make_animal_speak(animal):\n",
    "    animal.speak()\n",
    "\n",
    "animal = Animal()\n",
    "dog = Dog()\n",
    "cat = Cat()\n",
    "\n",
    "make_animal_speak(animal)\n",
    "make_animal_speak(dog)\n",
    "make_animal_speak(cat)\n",
    "\n",
    "# Print the tails of the animals\n",
    "print(dog.tail)\n",
    "print(cat.tail)\n",
    "print(animal.tail)\n"
   ]
  },
  {
   "cell_type": "code",
   "execution_count": 22,
   "metadata": {},
   "outputs": [
    {
     "data": {
      "text/plain": [
       "1"
      ]
     },
     "execution_count": 22,
     "metadata": {},
     "output_type": "execute_result"
    }
   ],
   "source": [
    "dog.tail"
   ]
  },
  {
   "cell_type": "code",
   "execution_count": null,
   "metadata": {},
   "outputs": [],
   "source": [
    "# Second inheritance example\n",
    "\n",
    "# In this example, we have a base class Vehicle with derived classes Car and Bike. \n",
    "# The derived classes inherit attributes and methods from the base class. \n",
    "# The display_info method is overridden in both derived classes to provide specialized information.\n",
    "\n",
    "class Vehicle:\n",
    "    def __init__(self, brand):\n",
    "        self.brand = brand\n",
    "\n",
    "    def display_info(self):\n",
    "        print(f\"Brand: {self.brand}\")\n",
    "\n",
    "class Car(Vehicle):\n",
    "    def __init__(self, brand, model):\n",
    "        super().__init__(brand)\n",
    "        self.model = model\n",
    "\n",
    "    def display_info(self):\n",
    "        super().display_info()\n",
    "        print(f\"Model: {self.model}\")\n",
    "\n",
    "class Bike(Vehicle):\n",
    "    def __init__(self, brand, type):\n",
    "        super().__init__(brand)\n",
    "        self.type = type\n",
    "\n",
    "    def display_info(self):\n",
    "        super().display_info()\n",
    "        print(f\"Type: {self.type}\")\n",
    "\n",
    "car = Car(\"Toyota\", \"Corolla\")\n",
    "bike = Bike(\"Honda\", \"Mountain\")\n",
    "\n",
    "car.display_info()\n",
    "bike.display_info()\n"
   ]
  },
  {
   "cell_type": "code",
   "execution_count": null,
   "metadata": {},
   "outputs": [],
   "source": [
    "# Second Polymorphism Example\n",
    "# In this example, we have a base class Shape with derived classes Circle and Square.\n",
    "# Both derived classes have an area method that calculates the area of the shape.\n",
    "# We create a list of different shapes and iterate through it, demonstrating polymorphism by calling the area method on each shape.\n",
    "\n",
    "class Shape:\n",
    "    def area(self):\n",
    "        pass\n",
    "\n",
    "class Circle(Shape):\n",
    "    def __init__(self, radius):\n",
    "        self.radius = radius\n",
    "\n",
    "    def area(self):\n",
    "        return 3.14159 * self.radius ** 2\n",
    "\n",
    "class Square(Shape):\n",
    "    def __init__(self, side_length):\n",
    "        self.side_length = side_length\n",
    "\n",
    "    def area(self):\n",
    "        return self.side_length ** 2\n",
    "\n",
    "shapes = [Circle(5), Square(4)]\n",
    "\n",
    "for shape in shapes:\n",
    "    print(\"Area:\", shape.area())\n"
   ]
  },
  {
   "cell_type": "code",
   "execution_count": 27,
   "metadata": {},
   "outputs": [
    {
     "name": "stdout",
     "output_type": "stream",
     "text": [
      "Woof!\n"
     ]
    }
   ],
   "source": [
    "# Method overriding and 'super()' example.\n",
    "\n",
    "# In this example, we have classes Animal, Dog, and Cat with overridden speak methods.\n",
    "# We create a class Hybrid that inherits from both Dog and Cat, and its speak method \n",
    "# uses super() to call the overridden methods from the base classes.\n",
    "# This demonstrates method overriding and multiple inheritance.\n",
    "\n",
    "class Animal:\n",
    "    def speak(self):\n",
    "        pass\n",
    "\n",
    "class Dog(Animal):\n",
    "    def speak(self):\n",
    "        print(\"Woof!\")\n",
    "\n",
    "class Cat(Animal):\n",
    "    def speak(self):\n",
    "        print(\"Meow!\")\n",
    "\n",
    "class Hybrid(Dog, Cat):\n",
    "    def speak(self):\n",
    "        super().speak()\n",
    "        # print(\"Purr!\")\n",
    "\n",
    "hybrid = Hybrid()\n",
    "hybrid.speak()\n"
   ]
  },
  {
   "cell_type": "code",
   "execution_count": null,
   "metadata": {},
   "outputs": [],
   "source": [
    "# Inheritance example\n",
    "\n",
    "class Vehicle:\n",
    "    def __init__(self, brand):\n",
    "        self.brand = brand\n",
    "\n",
    "    def display_info(self):\n",
    "        print(f\"Brand: {self.brand}\")\n",
    "\n",
    "class Car(Vehicle):\n",
    "    def __init__(self, brand, model):\n",
    "        super().__init__(brand)\n",
    "        self.model = model\n",
    "\n",
    "    def display_info(self):\n",
    "        super().display_info()\n",
    "        print(f\"Model: {self.model}\")\n",
    "\n",
    "class Bike(Vehicle):\n",
    "    def __init__(self, brand, type):\n",
    "        super().__init__(brand)\n",
    "        self.type = type\n",
    "\n",
    "    def display_info(self):\n",
    "        super().display_info()\n",
    "        print(f\"Type: {self.type}\")\n",
    "\n",
    "car = Car(\"Toyota\", \"Corolla\")\n",
    "bike = Bike(\"Honda\", \"Mountain\")\n",
    "\n",
    "car.display_info()\n",
    "bike.display_info()\n"
   ]
  },
  {
   "cell_type": "code",
   "execution_count": null,
   "metadata": {},
   "outputs": [],
   "source": [
    "# Polymorphism Example\n",
    "\n",
    "class Shape:\n",
    "    def area(self):\n",
    "        pass\n",
    "\n",
    "class Circle(Shape):\n",
    "    def __init__(self, radius):\n",
    "        self.radius = radius\n",
    "\n",
    "    def area(self):\n",
    "        return 3.14159 * self.radius ** 2\n",
    "\n",
    "class Square(Shape):\n",
    "    def __init__(self, side_length):\n",
    "        self.side_length = side_length\n",
    "\n",
    "    def area(self):\n",
    "        return self.side_length ** 2\n",
    "\n",
    "shapes = [Circle(5), Square(4)]\n",
    "\n",
    "for shape in shapes:\n",
    "    print(\"Area:\", shape.area())\n"
   ]
  },
  {
   "cell_type": "code",
   "execution_count": null,
   "metadata": {},
   "outputs": [],
   "source": [
    "# Private Class variable (__pi)\n",
    "class Circle:\n",
    "    __pi = 3.14159  # Private class variable\n",
    "\n",
    "    def __init__(self, radius):\n",
    "        self.radius = radius\n",
    "\n",
    "    def area(self):\n",
    "        return Circle.__pi * self.radius ** 2\n",
    "\n",
    "circle = Circle(5)\n",
    "print(\"Pi:\", circle.pi)  # This would result in an AttributeError\n",
    "print(\"Area:\", circle.area())\n",
    "\n",
    "#In this example, __pi is a private class variable of the Circle class.\n",
    "# If you try to access it directly from outside the class (commented line), you'll encounter an AttributeError.\n",
    "# However, the class can still use this private variable within its methods, as demonstrated in the area method.\n"
   ]
  },
  {
   "cell_type": "code",
   "execution_count": null,
   "metadata": {},
   "outputs": [],
   "source": [
    "# It's important to note that Python name mangling can still be used to access private class variables from outside the class. \n",
    "# For instance, circle._Circle__pi would access the private variable __pi in this case. \n",
    "# The use of the double underscore is more about convention and conveying the intended level of access rather than strict enforcement.\n",
    "\n",
    "print(circle._Circle__pi)"
   ]
  },
  {
   "cell_type": "code",
   "execution_count": null,
   "metadata": {},
   "outputs": [],
   "source": [
    "# private Class variable (pi)\n"
   ]
  },
  {
   "cell_type": "code",
   "execution_count": null,
   "metadata": {},
   "outputs": [],
   "source": [
    "# Compile-Time Polymporphism (Method overloading)\n",
    "class Calculator:\n",
    "    def add(self, a, b):\n",
    "        return a + b\n",
    "\n",
    "    def add(self, a, b, c):\n",
    "        return a + b + c\n",
    "\n",
    "calc = Calculator()\n",
    "result1 = calc.add(2, 3)       # Calls the first add method\n",
    "result2 = calc.add(2, 3, 4)    # Calls the second add method\n"
   ]
  },
  {
   "cell_type": "code",
   "execution_count": null,
   "metadata": {},
   "outputs": [],
   "source": [
    "# Runtime Polymorphism (Method Overriding)\n",
    "class Animal:\n",
    "    def speak(self):\n",
    "        pass\n",
    "\n",
    "class Dog(Animal):\n",
    "    def speak(self):\n",
    "        return \"Woof!\"\n",
    "\n",
    "class Cat(Animal):\n",
    "    def speak(self):\n",
    "        return \"Meow!\"\n",
    "\n",
    "def make_animal_speak(animal):\n",
    "    return animal.speak()\n",
    "\n",
    "dog = Dog()\n",
    "cat = Cat()\n",
    "\n",
    "print(make_animal_speak(dog))  # Output: Woof!\n",
    "print(make_animal_speak(cat))  # Output: Meow!\n"
   ]
  },
  {
   "cell_type": "markdown",
   "metadata": {},
   "source": [
    "Session 6: Encapsulation and Access Modifiers\n",
    "=============================================\n",
    "Here, we define a class BankAccount with a private attribute __balance. We use methods to interact with the private attribute while encapsulating its access."
   ]
  },
  {
   "cell_type": "code",
   "execution_count": null,
   "metadata": {},
   "outputs": [],
   "source": [
    "class BankAccount:\n",
    "    def __init__(self, balance):\n",
    "        self.__balance = balance\n",
    "\n",
    "    def deposit(self, amount):\n",
    "        self.__balance += amount\n",
    "\n",
    "    def get_balance(self):\n",
    "        return self.__balance\n",
    "\n",
    "account = BankAccount(1000)\n",
    "account.deposit(500)\n",
    "print(\"Balance:\", account.get_balance())\n"
   ]
  },
  {
   "cell_type": "markdown",
   "metadata": {},
   "source": [
    "Session 7: Mini-Project\n",
    "=======================\n",
    "This code presents a mini project - a simple bank account system. We define a class BankAccount with methods for deposit, withdrawal, and displaying the balance. We create an instance and perform operations on it."
   ]
  },
  {
   "cell_type": "code",
   "execution_count": null,
   "metadata": {},
   "outputs": [],
   "source": [
    "class BankAccount:\n",
    "    def __init__(self, account_number, balance):\n",
    "        self.account_number = account_number\n",
    "        self.balance = balance\n",
    "\n",
    "    def deposit(self, amount):\n",
    "        self.balance += amount\n",
    "\n",
    "    def withdraw(self, amount):\n",
    "        if amount <= self.balance:\n",
    "            self.balance -= amount\n",
    "        else:\n",
    "            print(\"Insufficient balance\")\n",
    "\n",
    "    def display_balance(self):\n",
    "        print(f\"Account Number: {self.account_number}, Balance: {self.balance}\")\n",
    "\n",
    "# Usage\n",
    "account1 = BankAccount(\"12345\", 1000)\n",
    "account1.deposit(500)\n",
    "account1.withdraw(300)\n",
    "account1.display_balance()\n"
   ]
  },
  {
   "cell_type": "code",
   "execution_count": null,
   "metadata": {},
   "outputs": [],
   "source": [
    "class Animal:\n",
    "    def speak(self):\n",
    "        pass\n",
    "\n",
    "class Dog(Animal):\n",
    "    def speak(self):\n",
    "        return \"Woof!\"\n",
    "\n",
    "class Cat(Animal):\n",
    "    def speak(self):\n",
    "        return \"Meow!\"\n",
    "\n",
    "class Hybrid(Dog, Cat):\n",
    "    def speak(self):\n",
    "        return super().speak() + \" and Purr!\"\n",
    "\n",
    "def make_animal_speak(animal):\n",
    "    return animal.speak()\n",
    "\n",
    "dog = Dog()\n",
    "cat = Cat()\n",
    "hybrid = Hybrid()\n",
    "\n",
    "print(make_animal_speak(dog))     # Output: Woof!\n",
    "print(make_animal_speak(cat))     # Output: Meow!\n",
    "print(make_animal_speak(hybrid))  # Output: Woof! and Purr!\n"
   ]
  }
 ],
 "metadata": {
  "kernelspec": {
   "display_name": "Python 3",
   "language": "python",
   "name": "python3"
  },
  "language_info": {
   "codemirror_mode": {
    "name": "ipython",
    "version": 3
   },
   "file_extension": ".py",
   "mimetype": "text/x-python",
   "name": "python",
   "nbconvert_exporter": "python",
   "pygments_lexer": "ipython3",
   "version": "3.11.2"
  },
  "orig_nbformat": 4
 },
 "nbformat": 4,
 "nbformat_minor": 2
}
