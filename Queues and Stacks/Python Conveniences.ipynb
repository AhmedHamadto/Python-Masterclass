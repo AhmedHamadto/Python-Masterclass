{
 "cells": [
  {
   "cell_type": "markdown",
   "metadata": {},
   "source": [
    "#\n",
    "# Classes.py : This program is an introduction to classes in Python.\n",
    "# \n",
    "# Author: Ahmed Abdelmuniem\n",
    "#\n",
    "# Date: 17/08/2023"
   ]
  },
  {
   "cell_type": "code",
   "execution_count": 1,
   "metadata": {},
   "outputs": [
    {
     "name": "stdout",
     "output_type": "stream",
     "text": [
      "[4, 8]\n"
     ]
    }
   ],
   "source": [
    "# Comprehension Syntax\n",
    "list1 = [1, 2, 3, 4, 5]\n",
    "\n",
    "list2 = [x * 2 for x in list1 if x % 2 == 0]\n",
    "\n",
    "print(list2)"
   ]
  },
  {
   "cell_type": "code",
   "execution_count": 5,
   "metadata": {},
   "outputs": [
    {
     "name": "stdout",
     "output_type": "stream",
     "text": [
      "[5, 6, 5, 6]\n"
     ]
    }
   ],
   "source": [
    "words = [\"apple\", \"banana\", \"grape\", \"kiwi\", \"orange\"]\n",
    "\n",
    "word_lengths = [len(word) for word in words if len(word) > 4]\n",
    "\n",
    "print(word_lengths)\n"
   ]
  },
  {
   "cell_type": "code",
   "execution_count": 2,
   "metadata": {},
   "outputs": [
    {
     "name": "stdout",
     "output_type": "stream",
     "text": [
      "(1, 2, 3, 4, 5)\n"
     ]
    }
   ],
   "source": [
    "# Packing and Unpacking\n",
    "\n",
    "# Packing\n",
    "# If a series of comma-separated expressions are given in a larger context,\n",
    "# they will be treated as a single tuple, even if no enclosing parentheses are provided.\n",
    "\n",
    "data = 1, 2, 3, 4, 5\n",
    "print(data)\n",
    "\n",
    "# One common use of packing in Python is when returning multiple values from a function.\n",
    "# If the body of a function executes the command,\n",
    "# return x, y\n",
    "# it will be formally returning a single object that is the tuple (x, y).\n"
   ]
  },
  {
   "cell_type": "code",
   "execution_count": 3,
   "metadata": {},
   "outputs": [
    {
     "name": "stdout",
     "output_type": "stream",
     "text": [
      "7\n",
      "8\n",
      "9\n",
      "10\n"
     ]
    }
   ],
   "source": [
    "# Unpacking\n",
    "# As a dual to the packing behavior, Python can automatically unpack a se-quence, \n",
    "# allowing one to assign a series of individual identifiers to the elements of sequence. \n",
    "# As an example, we can write\n",
    "\n",
    "a, b, c, d = range(7, 11)\n",
    "\n",
    "print(a)\n",
    "print(b)\n",
    "print(c)\n",
    "print(d)\n",
    "\n",
    "# For this syntax, the right-hand side expression can be any iterable type, \n",
    "# as long as the number of variables on the left-hand side is the same as the number of elements in the iteration."
   ]
  },
  {
   "cell_type": "code",
   "execution_count": 8,
   "metadata": {},
   "outputs": [
    {
     "name": "stdout",
     "output_type": "stream",
     "text": [
      "3 1\n"
     ]
    }
   ],
   "source": [
    "# This technique can be used to unpack tuples returned by a function. \n",
    "# For example, the built-in function, divmod(a, b), returns the pair of values (a // b, a % b) \n",
    "# associated with an integer division. Although the caller can consider the return value to be a single tuple, \n",
    "# it is possible to write\n",
    "a = 10\n",
    "b = 3\n",
    "quotient, remainder = divmod(a, b)\n",
    "print(quotient, remainder)"
   ]
  },
  {
   "cell_type": "code",
   "execution_count": 9,
   "metadata": {},
   "outputs": [
    {
     "name": "stdout",
     "output_type": "stream",
     "text": [
      "7 2\n",
      "5 8\n",
      "6 4\n"
     ]
    }
   ],
   "source": [
    "# This syntax can also be used in the context of a for loop, when iterating over a sequence of iterables, as in\n",
    "for x, y in [ (7, 2), (5, 8), (6, 4) ]:\n",
    "    print(x, y)"
   ]
  },
  {
   "cell_type": "code",
   "execution_count": 2,
   "metadata": {},
   "outputs": [
    {
     "name": "stdout",
     "output_type": "stream",
     "text": [
      "6 2 5\n"
     ]
    }
   ],
   "source": [
    "# The combination of automatic packing and unpacking forms a technique known as simultaneous assignment, \n",
    "# whereby we explicitly assign a series of values to a series of identifiers, using a syntax:\n",
    "x, y, z = 6, 2, 5\n",
    "print(x, y, z)"
   ]
  },
  {
   "cell_type": "code",
   "execution_count": 11,
   "metadata": {},
   "outputs": [
    {
     "name": "stdout",
     "output_type": "stream",
     "text": [
      "1 2\n",
      "2 1\n"
     ]
    }
   ],
   "source": [
    "# When using a simultaneous assignment, all of the expressions are evaluated on the right-hand side \n",
    "# before any of the assignments are made to the left-hand variables. \n",
    "# This is significant, as it provides a convenient means for swapping the values associated with two variables:\n",
    "j = 1\n",
    "k = 2\n",
    "print(j, k)\n",
    "j, k = k, j\n",
    "print(j, k)"
   ]
  },
  {
   "cell_type": "code",
   "execution_count": 12,
   "metadata": {},
   "outputs": [
    {
     "name": "stdout",
     "output_type": "stream",
     "text": [
      "2 1 1\n"
     ]
    }
   ],
   "source": [
    "# With this command, j will be assigned to the old value of k, and k will be assigned to the old value of j. \n",
    "# Without simultaneous assignment, a swap typically requires more delicate use of a temporary variable, such as\n",
    "j = 1\n",
    "k = 2\n",
    "temp = j \n",
    "j=k\n",
    "k = temp\n",
    "\n",
    "print(j, k, temp)\n",
    "\n",
    "# Hence this saves us a line of code and makes the code more readable, \n",
    "# whilst also saving us from having to create a temporary variable. Which preserves memory."
   ]
  }
 ],
 "metadata": {
  "kernelspec": {
   "display_name": "Python 3",
   "language": "python",
   "name": "python3"
  },
  "language_info": {
   "codemirror_mode": {
    "name": "ipython",
    "version": 3
   },
   "file_extension": ".py",
   "mimetype": "text/x-python",
   "name": "python",
   "nbconvert_exporter": "python",
   "pygments_lexer": "ipython3",
   "version": "3.11.2"
  },
  "orig_nbformat": 4
 },
 "nbformat": 4,
 "nbformat_minor": 2
}
